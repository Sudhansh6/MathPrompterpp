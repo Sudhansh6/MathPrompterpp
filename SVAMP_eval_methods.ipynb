{
 "cells": [
  {
   "cell_type": "code",
   "execution_count": 12,
   "metadata": {},
   "outputs": [
    {
     "data": {
      "text/plain": [
       "True"
      ]
     },
     "execution_count": 12,
     "metadata": {},
     "output_type": "execute_result"
    }
   ],
   "source": [
    "# Standard imports\n",
    "import json\n",
    "from tqdm import tqdm\n",
    "import sys\n",
    "import pandas as pd\n",
    "import random\n",
    "import os\n",
    "from joblib import Parallel, delayed\n",
    "import importlib\n",
    "from functools import partial\n",
    "import csv\n",
    "import dotenv\n",
    "dotenv.load_dotenv()"
   ]
  },
  {
   "cell_type": "code",
   "execution_count": 13,
   "metadata": {},
   "outputs": [
    {
     "data": {
      "text/plain": [
       "<module 'llm_inference.llm_factory' from '/Users/s/Desktop/Academics/Quarter 4/CSE256/Project/FinalCode/llm_inference/llm_factory.py'>"
      ]
     },
     "execution_count": 13,
     "metadata": {},
     "output_type": "execute_result"
    }
   ],
   "source": [
    "# Method imports\n",
    "sys.path.append('..')\n",
    "\n",
    "from methods.mathprompterpp import mathprompterpp\n",
    "from methods.mathprompter import mathprompter\n",
    "from methods.zeroshotCoT import zeroshotCoT\n",
    "from utils.method_utils import generating_algebraic_template\n",
    "from utils.plot_utils import compute_detailed_metrics, plot_individual_metrics\n",
    "from llm_inference.llm_factory import get_llm_service\n",
    "\n",
    "import methods.mathprompterpp\n",
    "import methods.mathprompter\n",
    "import methods.zeroshotCoT\n",
    "import utils.method_utils\n",
    "import llm_inference.llm_factory\n",
    "\n",
    "importlib.reload(methods.mathprompterpp)\n",
    "importlib.reload(methods.zeroshotCoT)   \n",
    "importlib.reload(utils.method_utils)\n",
    "importlib.reload(llm_inference.llm_factory)\n"
   ]
  },
  {
   "cell_type": "code",
   "execution_count": 14,
   "metadata": {},
   "outputs": [],
   "source": [
    "# Initialize parameters\n",
    "suffix = str(random.randint(1, 1000000))\n",
    "random.seed(42)\n",
    "# model_service = 'openai'\n",
    "# model_name = 'gpt-4o-mini'\n",
    "model_service = 'llama'\n",
    "model_name = 'mlx-community/Llama-3.2-1B-Instruct-4bit'\n",
    "data_size = 100\n",
    "max_tokens = 200\n",
    "few_shot = False\n",
    "consensus_k = 5"
   ]
  },
  {
   "cell_type": "code",
   "execution_count": 15,
   "metadata": {},
   "outputs": [],
   "source": [
    "# Initialize model and data\n",
    "# SERVICE = get_llm_service(model_service, model_name, temperature=0.0, max_tokens=max_tokens)"
   ]
  },
  {
   "cell_type": "code",
   "execution_count": 16,
   "metadata": {},
   "outputs": [],
   "source": [
    "# Define the methods you want to evaluate\n",
    "run_methods = [\"MathPrompter\", \"MathPrompter++\", \"Zeroshot CoT\"]  # Example methods"
   ]
  },
  {
   "cell_type": "code",
   "execution_count": 17,
   "metadata": {},
   "outputs": [
    {
     "name": "stdout",
     "output_type": "stream",
     "text": [
      "472408_Llama-3.2-1B-Instruct-4bit_100\n"
     ]
    }
   ],
   "source": [
    "with open('data/SVAMP.json', 'r') as file:\n",
    "    data = json.load(file)\n",
    "data = random.sample(data, k=data_size)  # Take a random sample of 100 rows\n",
    "\n",
    "suffix += \"_\" + model_name.split(\"/\")[-1] + \"_\" + str(data_size) \n",
    "suffix += \"_few_shot\" if few_shot else \"\"\n",
    "print(suffix)\n",
    "\n",
    "# Create folder if not exists\n",
    "if not os.path.exists('results/' + suffix):\n",
    "    os.makedirs('results/' + suffix)"
   ]
  },
  {
   "cell_type": "code",
   "execution_count": 18,
   "metadata": {},
   "outputs": [],
   "source": [
    "if \"MathPrompter\" in run_methods:\n",
    "    # MathPrompter\n",
    "    header_mathprompter = [\"Question\", \"Type\", \"Correct Answer\", \"Predicted Answer\", \"Predicted Algebraic Answer\", \"Predicted Python Answer\", \"Generated Algebraic Template\", \"Generated Expression\", \"Generated Python Code\", \"Variable Mapping\", \"Error\", \"Error Message\"]\n",
    "    df_mathprompter = pd.DataFrame(columns=header_mathprompter)\n",
    "    csv_file_mathprompter = 'results/' + suffix + '/mathprompter_results.csv'  # CSV file path\n",
    "\n",
    "if \"MathPrompter++\" in run_methods:\n",
    "    # MathPrompter++\n",
    "    header_mathprompterpp = [\"Question\", \"Type\", \"Correct Answer\", \"Predicted Answer\", \"Predicted Algebraic Answer\", \"Predicted Python Answer\", \"Generated Algebraic Template\", \"Rough Solution\", \"Generated Expression\", \"Generated Python Code\", \"Variable Mapping\", \"Error\", \"Error Message\"]\n",
    "    df_mathprompterpp = pd.DataFrame(columns=header_mathprompterpp)\n",
    "    csv_file_mathprompterpp = 'results/' + suffix + '/mathprompterpp_results.csv'  # CSV file path\n",
    "\n",
    "if \"Zeroshot CoT\" in run_methods:\n",
    "    # Zeroshot CoT\n",
    "    header_zeroshot_cot = [\"Question\", \"Type\", \"Correct Answer\", \"Predicted Answer\", \"Response\", \"Error\", \"Error Message\"]\n",
    "    df_zeroshot_cot = pd.DataFrame(columns=header_zeroshot_cot)\n",
    "    csv_file_zeroshot_cot = 'results/' + suffix + '/zeroshot_cot_results.csv'  # CSV file path\n",
    "\n",
    "# Example of saving the DataFrames to CSV files\n",
    "if \"MathPrompter\" in run_methods:\n",
    "    df_mathprompter.to_csv(csv_file_mathprompter, index=False)\n",
    "\n",
    "if \"MathPrompter++\" in run_methods:\n",
    "    df_mathprompterpp.to_csv(csv_file_mathprompterpp, index=False)\n",
    "\n",
    "if \"Zeroshot CoT\" in run_methods:\n",
    "    df_zeroshot_cot.to_csv(csv_file_zeroshot_cot, index=False)\n"
   ]
  },
  {
   "cell_type": "code",
   "execution_count": 19,
   "metadata": {},
   "outputs": [],
   "source": [
    "def reset_csv_files():\n",
    "    if \"MathPrompter\" in run_methods:\n",
    "        with open(csv_file_mathprompter, 'w') as f:\n",
    "            writer = csv.writer(f)\n",
    "            writer.writerow(header_mathprompter)\n",
    "    if \"MathPrompter++\" in run_methods:\n",
    "        with open(csv_file_mathprompterpp, 'w') as f:\n",
    "            writer = csv.writer(f)\n",
    "            writer.writerow(header_mathprompterpp)\n",
    "    if \"Zeroshot CoT\" in run_methods:\n",
    "        with open(csv_file_zeroshot_cot, 'w') as f:\n",
    "            writer = csv.writer(f)\n",
    "            writer.writerow(header_zeroshot_cot)\n"
   ]
  },
  {
   "cell_type": "code",
   "execution_count": 20,
   "metadata": {},
   "outputs": [],
   "source": [
    "# Parallelize across different data rows using joblib\n",
    "def process_question(item, debug = False):\n",
    "    SERVICE = get_llm_service(model_service, model_name, temperature=0.0, max_tokens=max_tokens)\n",
    "    question = item[\"Body\"] + \" \" + item[\"Question\"]\n",
    "    correct_answer = item[\"Answer\"]\n",
    "    question_type = item[\"Type\"]\n",
    "    qt, variable_mapping = generating_algebraic_template(question) \n",
    "    if \"MathPrompter\" in run_methods:   \n",
    "        mathprompter_answer = mathprompter(qt, variable_mapping, SERVICE, k = consensus_k, few_shot=few_shot)\n",
    "\n",
    "        # Create a dictionary for the new row\n",
    "        new_row = {\n",
    "            \"Question\": question,\n",
    "            \"Type\": question_type,\n",
    "            \"Correct Answer\": correct_answer,\n",
    "            \"Predicted Answer\": mathprompter_answer[\"Result\"],\n",
    "            \"Predicted Algebraic Answer\": mathprompter_answer[\"Expression_Result\"],\n",
    "            \"Predicted Python Answer\": mathprompter_answer[\"Code_Result\"],\n",
    "            \"Generated Algebraic Template\": qt,\n",
    "            \"Generated Expression\": mathprompter_answer[\"Expression\"],\n",
    "            \"Generated Python Code\": mathprompter_answer[\"Code\"],\n",
    "            \"Variable Mapping\": variable_mapping,\n",
    "            \"Error\": mathprompter_answer[\"Error\"],\n",
    "            \"Error Message\": mathprompter_answer[\"Error_Message\"]\n",
    "        }\n",
    "        if debug:\n",
    "            print(\"MathPrompter\")\n",
    "            print(mathprompter_answer)\n",
    "            print(new_row)\n",
    "        # Append the new row to the DataFrame using pd.concat\n",
    "        # df_mathprompter = pd.concat([df_mathprompter, pd.DataFrame([new_row])], ignore_index=True)\n",
    "        # Write to csv\n",
    "        with open(csv_file_mathprompter, 'a') as f:\n",
    "            writer = csv.writer(f)\n",
    "            writer.writerow(new_row.values())\n",
    "    if \"MathPrompter++\" in run_methods:\n",
    "        mathprompterpp_answer = mathprompterpp(question, qt, variable_mapping, SERVICE, k = consensus_k, few_shot=few_shot)\n",
    "        \n",
    "        # Create a dictionary for the new row\n",
    "        new_row = {\n",
    "            \"Question\": question,\n",
    "            \"Type\": question_type,\n",
    "            \"Correct Answer\": correct_answer,\n",
    "            \"Predicted Answer\": mathprompterpp_answer[\"Result\"],\n",
    "            \"Predicted Algebraic Answer\": mathprompterpp_answer[\"Expression_Result\"],\n",
    "            \"Predicted Python Answer\": mathprompterpp_answer[\"Code_Result\"],\n",
    "            \"Generated Algebraic Template\": qt,\n",
    "            \"Rough Solution\": mathprompterpp_answer[\"Rough_Solution\"],\n",
    "            \"Generated Expression\": mathprompterpp_answer[\"Expression\"],\n",
    "            \"Generated Python Code\": mathprompterpp_answer[\"Code\"],\n",
    "            \"Variable Mapping\": variable_mapping,\n",
    "            \"Error\": mathprompterpp_answer[\"Error\"],\n",
    "            \"Error Message\": mathprompterpp_answer[\"Error_Message\"]\n",
    "        }\n",
    "        if debug:\n",
    "            print(\"MathPrompter++\")\n",
    "            print(mathprompterpp_answer)\n",
    "            print(new_row)\n",
    "        # Append the new row to the DataFrame using pd.concat\n",
    "        # df_mathprompterpp = pd.concat([df_mathprompterpp, pd.DataFrame([new_row])], ignore_index=True)\n",
    "        # Write to csv\n",
    "        with open(csv_file_mathprompterpp, 'a') as f:\n",
    "            writer = csv.writer(f)\n",
    "            writer.writerow(new_row.values())\n",
    "    if \"Zeroshot CoT\" in run_methods:\n",
    "        zeroshot_cot_answer = zeroshotCoT(question, SERVICE, max_tokens)    \n",
    "\n",
    "        # Create a dictionary for the new row\n",
    "        new_row = {\n",
    "            \"Question\": question,\n",
    "            \"Type\": question_type,\n",
    "            \"Correct Answer\": correct_answer,\n",
    "            \"Predicted Answer\": zeroshot_cot_answer[\"Answer\"],\n",
    "            \"Response\": zeroshot_cot_answer[\"Response\"],\n",
    "            \"Error\": zeroshot_cot_answer[\"Error\"],\n",
    "            \"Error Message\": zeroshot_cot_answer[\"Error_Message\"]\n",
    "        }\n",
    "        if debug:\n",
    "            print(\"Zeroshot CoT\")\n",
    "            print(zeroshot_cot_answer)\n",
    "            print(new_row)\n",
    "        # Append the new row to the DataFrame using pd.concat\n",
    "        # df_zeroshot_cot = pd.concat([df_zeroshot_cot, pd.DataFrame([new_row])], ignore_index=True)\n",
    "        # Write to csv\n",
    "        with open(csv_file_zeroshot_cot, 'a') as f:\n",
    "            writer = csv.writer(f)\n",
    "            writer.writerow(new_row.values())"
   ]
  },
  {
   "cell_type": "code",
   "execution_count": 21,
   "metadata": {},
   "outputs": [],
   "source": [
    "# Test \n",
    "# reset_csv_files()\n",
    "# # if not few_shot:\n",
    "# #     run_methods = [\"MathPrompter\", \"MathPrompter++\"]\n",
    "# for i in tqdm(range(100)):\n",
    "#     # print(data[i])\n",
    "#     process_question(data[i], debug=False)"
   ]
  },
  {
   "cell_type": "code",
   "execution_count": 22,
   "metadata": {},
   "outputs": [
    {
     "name": "stderr",
     "output_type": "stream",
     "text": [
      "Fetching 6 files: 100%|██████████| 6/6 [00:00<00:00, 20763.88it/s]/s]\n",
      "Fetching 6 files: 100%|██████████| 6/6 [00:00<00:00, 32305.29it/s]\n"
     ]
    },
    {
     "name": "stdout",
     "output_type": "stream",
     "text": [
      "30\n",
      "Error when executing Python code: name 'solution' is not defined\n",
      "An error occurred during the verification process: must be real number, not NoneType\n",
      "105\n",
      "Error when executing Python code: name 'solution' is not defined\n",
      "An error occurred during the verification process: must be real number, not NoneType\n",
      "Syntax error in the expression: invalid syntax (<string>, line 1)\n",
      "An error occurred during the verification process: must be real number, not NoneType\n"
     ]
    },
    {
     "name": "stderr",
     "output_type": "stream",
     "text": [
      "Processing Questions:   2%|▏         | 2/100 [00:10<00:05, 19.43it/s]"
     ]
    },
    {
     "name": "stdout",
     "output_type": "stream",
     "text": [
      "Syntax error in the expression: invalid syntax (<string>, line 1)\n",
      "An error occurred during the verification process: must be real number, not NoneType\n"
     ]
    },
    {
     "name": "stderr",
     "output_type": "stream",
     "text": [
      "Fetching 6 files: 100%|██████████| 6/6 [00:00<00:00, 33644.15it/s]it]\n"
     ]
    },
    {
     "name": "stdout",
     "output_type": "stream",
     "text": [
      "Error when executing Python code: name 'solution' is not defined\n",
      "An error occurred during the verification process: must be real number, not NoneType\n"
     ]
    },
    {
     "name": "stderr",
     "output_type": "stream",
     "text": [
      "Fetching 6 files: 100%|██████████| 6/6 [00:00<00:00, 25015.73it/s]\n"
     ]
    },
    {
     "name": "stdout",
     "output_type": "stream",
     "text": [
      "An error occurred during the verification process: 'Code_Result'\n",
      "50\n",
      "Error when executing Python code: name 'solution' is not defined\n",
      "An error occurred during the verification process: must be real number, not NoneType\n"
     ]
    },
    {
     "name": "stderr",
     "output_type": "stream",
     "text": [
      "Processing Questions:   6%|▌         | 6/100 [00:17<04:57,  3.16s/it]/Users/s/miniforge3/envs/llms/lib/python3.10/site-packages/joblib/externals/loky/process_executor.py:752: UserWarning: A worker stopped while some jobs were given to the executor. This can be caused by a too short worker timeout or by a memory leak.\n",
      "  warnings.warn(\n",
      "Fetching 6 files: 100%|██████████| 6/6 [00:00<00:00, 9853.49it/s]\n",
      "Fetching 6 files: 100%|██████████| 6/6 [00:00<00:00, 8796.16it/s]\n"
     ]
    },
    {
     "name": "stdout",
     "output_type": "stream",
     "text": [
      "Syntax error in the expression: invalid syntax (<string>, line 1)\n",
      "An error occurred during the verification process: must be real number, not NoneType\n",
      "Syntax error in the expression: invalid syntax (<string>, line 1)\n",
      "An error occurred during the verification process: must be real number, not NoneType\n",
      "An error occurred during the verification process: 'Code_Result'\n"
     ]
    },
    {
     "name": "stderr",
     "output_type": "stream",
     "text": [
      "Fetching 6 files: 100%|██████████| 6/6 [00:00<00:00, 17747.41it/s]it]\n"
     ]
    },
    {
     "name": "stdout",
     "output_type": "stream",
     "text": [
      "Syntax error in the expression: invalid syntax (<string>, line 1)\n",
      "An error occurred during the verification process: must be real number, not NoneType\n",
      "0\n",
      "Error when executing Python code: name 'solution' is not defined\n",
      "An error occurred during the verification process: must be real number, not NoneType\n"
     ]
    },
    {
     "name": "stderr",
     "output_type": "stream",
     "text": [
      "Fetching 6 files: 100%|██████████| 6/6 [00:00<00:00, 18065.92it/s]\n"
     ]
    },
    {
     "name": "stdout",
     "output_type": "stream",
     "text": [
      "Syntax error in the expression: invalid syntax (<string>, line 1)\n",
      "An error occurred during the verification process: must be real number, not NoneType\n",
      "Error when executing Python code: name 'solution' is not defined\n",
      "An error occurred during the verification process: must be real number, not NoneType\n"
     ]
    },
    {
     "name": "stderr",
     "output_type": "stream",
     "text": [
      "Fetching 6 files: 100%|██████████| 6/6 [00:00<00:00, 15233.55it/s]/it]\n",
      "Fetching 6 files: 100%|██████████| 6/6 [00:00<00:00, 17003.94it/s]\n"
     ]
    },
    {
     "name": "stdout",
     "output_type": "stream",
     "text": [
      "Error when executing Python code: name 'solution' is not defined\n",
      "An error occurred during the verification process: must be real number, not NoneType\n",
      "Error when executing Python code: solution() got an unexpected keyword argument 'var_A'\n",
      "An error occurred during the verification process: must be real number, not NoneType\n",
      "Syntax error in the expression: invalid syntax (<string>, line 1)\n",
      "An error occurred during the verification process: must be real number, not NoneType\n",
      "Syntax error in the expression: invalid syntax (<string>, line 1)\n",
      "An error occurred during the verification process: must be real number, not NoneType\n"
     ]
    },
    {
     "name": "stderr",
     "output_type": "stream",
     "text": [
      "Fetching 6 files: 100%|██████████| 6/6 [00:00<00:00, 8994.22it/s]s/it]\n",
      "Fetching 6 files: 100%|██████████| 6/6 [00:00<00:00, 12446.01it/s]\n"
     ]
    },
    {
     "name": "stdout",
     "output_type": "stream",
     "text": [
      "30\n",
      "Error when executing Python code: name 'solution' is not defined\n",
      "An error occurred during the verification process: must be real number, not NoneType\n",
      "15\n",
      "Error when executing Python code: name 'solution' is not defined\n",
      "An error occurred during the verification process: must be real number, not NoneType\n",
      "Syntax error in the expression: invalid syntax (<string>, line 1)\n",
      "An error occurred during the verification process: must be real number, not NoneType\n"
     ]
    },
    {
     "name": "stderr",
     "output_type": "stream",
     "text": [
      "Fetching 6 files: 100%|██████████| 6/6 [00:00<00:00, 20213.51it/s]/it]\n"
     ]
    },
    {
     "name": "stdout",
     "output_type": "stream",
     "text": [
      "Syntax error in the expression: invalid syntax (<string>, line 1)\n",
      "An error occurred during the verification process: must be real number, not NoneType\n",
      "Syntax error in the expression: invalid syntax (<string>, line 1)\n",
      "An error occurred during the verification process: must be real number, not NoneType\n"
     ]
    },
    {
     "name": "stderr",
     "output_type": "stream",
     "text": [
      "Fetching 6 files: 100%|██████████| 6/6 [00:00<00:00, 10343.54it/s]\n"
     ]
    },
    {
     "name": "stdout",
     "output_type": "stream",
     "text": [
      "Syntax error in the expression: invalid syntax (<string>, line 1)\n",
      "An error occurred during the verification process: must be real number, not NoneType\n",
      "5\n",
      "Error when executing Python code: name 'solution' is not defined\n",
      "An error occurred during the verification process: must be real number, not NoneType\n"
     ]
    },
    {
     "name": "stderr",
     "output_type": "stream",
     "text": [
      "Fetching 6 files: 100%|██████████| 6/6 [00:00<00:00, 10394.81it/s]/it]\n"
     ]
    },
    {
     "name": "stdout",
     "output_type": "stream",
     "text": [
      "Syntax error in the expression: invalid syntax (<string>, line 1)\n",
      "An error occurred during the verification process: must be real number, not NoneType\n",
      "Error when executing Python code: name 'solution' is not defined\n",
      "An error occurred during the verification process: must be real number, not NoneType\n"
     ]
    },
    {
     "name": "stderr",
     "output_type": "stream",
     "text": [
      "Fetching 6 files: 100%|██████████| 6/6 [00:00<00:00, 11517.54it/s]\n"
     ]
    },
    {
     "name": "stdout",
     "output_type": "stream",
     "text": [
      "An error occurred during the verification process: 'Code_Result'\n",
      "Error when executing Python code: name 'solution' is not defined\n",
      "An error occurred during the verification process: must be real number, not NoneType\n"
     ]
    },
    {
     "name": "stderr",
     "output_type": "stream",
     "text": [
      "Fetching 6 files: 100%|██████████| 6/6 [00:00<00:00, 12794.01it/s]/it]\n"
     ]
    },
    {
     "name": "stdout",
     "output_type": "stream",
     "text": [
      "Syntax error in the expression: invalid syntax (<string>, line 1)\n",
      "An error occurred during the verification process: must be real number, not NoneType\n",
      "Error when executing Python code: solution() got an unexpected keyword argument 'var_A'\n",
      "An error occurred during the verification process: must be real number, not NoneType\n"
     ]
    },
    {
     "name": "stderr",
     "output_type": "stream",
     "text": [
      "Fetching 6 files: 100%|██████████| 6/6 [00:00<00:00, 10184.47it/s]\n"
     ]
    },
    {
     "name": "stdout",
     "output_type": "stream",
     "text": [
      "An error occurred during the verification process: 'Code_Result'\n",
      "Error when executing Python code: invalid syntax (<string>, line 22)\n",
      "An error occurred during the verification process: must be real number, not NoneType\n"
     ]
    },
    {
     "name": "stderr",
     "output_type": "stream",
     "text": [
      "Processing Questions:  20%|██        | 20/100 [01:10<04:48,  3.60s/it]"
     ]
    },
    {
     "name": "stdout",
     "output_type": "stream",
     "text": [
      "Syntax error in the expression: invalid decimal literal (<string>, line 1)\n",
      "An error occurred during the verification process: must be real number, not NoneType\n"
     ]
    },
    {
     "name": "stderr",
     "output_type": "stream",
     "text": [
      "Fetching 6 files: 100%|██████████| 6/6 [00:00<00:00, 12690.78it/s]\n"
     ]
    },
    {
     "name": "stdout",
     "output_type": "stream",
     "text": [
      "5\n",
      "Error when executing Python code: name 'solution' is not defined\n",
      "An error occurred during the verification process: must be real number, not NoneType\n"
     ]
    },
    {
     "name": "stderr",
     "output_type": "stream",
     "text": [
      "Fetching 6 files: 100%|██████████| 6/6 [00:00<00:00, 8876.83it/s]\n"
     ]
    },
    {
     "name": "stdout",
     "output_type": "stream",
     "text": [
      "Syntax error in the expression: invalid syntax (<string>, line 1)\n",
      "An error occurred during the verification process: must be real number, not NoneType\n",
      "-5\n",
      "-5\n"
     ]
    },
    {
     "name": "stderr",
     "output_type": "stream",
     "text": [
      "Fetching 6 files: 100%|██████████| 6/6 [00:00<00:00, 24291.34it/s]/it]\n"
     ]
    },
    {
     "name": "stdout",
     "output_type": "stream",
     "text": [
      "Syntax error in the expression: invalid syntax (<string>, line 1)\n",
      "An error occurred during the verification process: must be real number, not NoneType\n",
      "2\n",
      "Error when executing Python code: name 'solution' is not defined\n",
      "An error occurred during the verification process: must be real number, not NoneType\n"
     ]
    },
    {
     "name": "stderr",
     "output_type": "stream",
     "text": [
      "Fetching 6 files: 100%|██████████| 6/6 [00:00<00:00, 10200.98it/s]\n"
     ]
    },
    {
     "name": "stdout",
     "output_type": "stream",
     "text": [
      "Syntax error in the expression: invalid syntax (<string>, line 1)\n",
      "An error occurred during the verification process: must be real number, not NoneType\n",
      "Error when executing Python code: name 'solution' is not defined\n",
      "An error occurred during the verification process: must be real number, not NoneType\n"
     ]
    },
    {
     "name": "stderr",
     "output_type": "stream",
     "text": [
      "Fetching 6 files: 100%|██████████| 6/6 [00:00<00:00, 20989.01it/s]/it]\n"
     ]
    },
    {
     "name": "stdout",
     "output_type": "stream",
     "text": [
      "Syntax error in the expression: invalid syntax (<string>, line 1)\n",
      "An error occurred during the verification process: must be real number, not NoneType\n",
      "Error when executing Python code: input(): lost sys.stdin\n",
      "An error occurred during the verification process: must be real number, not NoneType\n"
     ]
    },
    {
     "name": "stderr",
     "output_type": "stream",
     "text": [
      "Fetching 6 files: 100%|██████████| 6/6 [00:00<00:00, 8357.96it/s]\n"
     ]
    },
    {
     "name": "stdout",
     "output_type": "stream",
     "text": [
      "An error occurred during the verification process: 'Code_Result'\n",
      "8\n",
      "Error when executing Python code: name 'solution' is not defined\n",
      "An error occurred during the verification process: must be real number, not NoneType\n"
     ]
    },
    {
     "name": "stderr",
     "output_type": "stream",
     "text": [
      "Processing Questions:  26%|██▌       | 26/100 [01:30<04:18,  3.49s/it]"
     ]
    },
    {
     "name": "stdout",
     "output_type": "stream",
     "text": [
      "Runtime error during expression evaluation: 'NoneType' object is not subscriptable\n",
      "An error occurred during the verification process: must be real number, not NoneType\n"
     ]
    },
    {
     "name": "stderr",
     "output_type": "stream",
     "text": [
      "Fetching 6 files: 100%|██████████| 6/6 [00:00<00:00, 8346.87it/s]\n",
      "Fetching 6 files: 100%|██████████| 6/6 [00:00<00:00, 10472.67it/s]\n"
     ]
    },
    {
     "name": "stdout",
     "output_type": "stream",
     "text": [
      "Syntax error in the expression: invalid syntax (<string>, line 1)\n",
      "An error occurred during the verification process: must be real number, not NoneType\n",
      "Error when executing Python code: name 'solution' is not defined\n",
      "An error occurred during the verification process: must be real number, not NoneType\n",
      "An error occurred during the verification process: 'Code_Result'\n",
      "Syntax error in the expression: invalid decimal literal (<string>, line 1)\n",
      "An error occurred during the verification process: must be real number, not NoneType\n"
     ]
    },
    {
     "name": "stderr",
     "output_type": "stream",
     "text": [
      "Fetching 6 files: 100%|██████████| 6/6 [00:00<00:00, 10870.77it/s]/it]\n",
      "Fetching 6 files: 100%|██████████| 6/6 [00:00<00:00, 19036.18it/s]\n"
     ]
    },
    {
     "name": "stdout",
     "output_type": "stream",
     "text": [
      "Syntax error in the expression: invalid syntax (<string>, line 1)\n",
      "An error occurred during the verification process: must be real number, not NoneType\n",
      "30\n",
      "Error when executing Python code: name 'solution' is not defined\n",
      "An error occurred during the verification process: must be real number, not NoneType\n",
      "Syntax error in the expression: invalid syntax (<string>, line 1)\n",
      "An error occurred during the verification process: must be real number, not NoneType\n",
      "Syntax error in the expression: invalid syntax (<string>, line 1)\n",
      "An error occurred during the verification process: must be real number, not NoneType\n"
     ]
    },
    {
     "name": "stderr",
     "output_type": "stream",
     "text": [
      "Fetching 6 files: 100%|██████████| 6/6 [00:00<00:00, 14051.27it/s]/it]\n"
     ]
    },
    {
     "name": "stdout",
     "output_type": "stream",
     "text": [
      "60\n",
      "Error when executing Python code: name 'solution' is not defined\n",
      "An error occurred during the verification process: must be real number, not NoneType\n",
      "An error occurred during the verification process: 'Code_Result'\n"
     ]
    },
    {
     "name": "stderr",
     "output_type": "stream",
     "text": [
      "Fetching 6 files: 100%|██████████| 6/6 [00:00<00:00, 15033.35it/s]/it]\n",
      "Fetching 6 files: 100%|██████████| 6/6 [00:00<00:00, 60205.32it/s]\n"
     ]
    },
    {
     "name": "stdout",
     "output_type": "stream",
     "text": [
      "5\n",
      "Error when executing Python code: name 'solution' is not defined\n",
      "An error occurred during the verification process: must be real number, not NoneType\n",
      "Syntax error in the expression: invalid syntax (<string>, line 1)\n",
      "An error occurred during the verification process: must be real number, not NoneType\n",
      "Syntax error in the expression: invalid syntax (<string>, line 1)\n",
      "An error occurred during the verification process: must be real number, not NoneType\n"
     ]
    },
    {
     "name": "stderr",
     "output_type": "stream",
     "text": [
      "Fetching 6 files: 100%|██████████| 6/6 [00:00<00:00, 11300.33it/s]\n",
      "Processing Questions:  34%|███▍      | 34/100 [01:54<03:21,  3.05s/it]"
     ]
    },
    {
     "name": "stdout",
     "output_type": "stream",
     "text": [
      "5\n",
      "Error when executing Python code: name 'solution' is not defined\n",
      "An error occurred during the verification process: must be real number, not NoneType\n",
      "Syntax error in the expression: invalid syntax (<string>, line 1)\n",
      "An error occurred during the verification process: must be real number, not NoneType\n"
     ]
    },
    {
     "name": "stderr",
     "output_type": "stream",
     "text": [
      "Fetching 6 files: 100%|██████████| 6/6 [00:00<00:00, 16183.81it/s]\n",
      "Fetching 6 files: 100%|██████████| 6/6 [00:00<00:00, 25343.23it/s]\n"
     ]
    },
    {
     "name": "stdout",
     "output_type": "stream",
     "text": [
      "Syntax error in the expression: invalid syntax (<string>, line 1)\n",
      "An error occurred during the verification process: must be real number, not NoneType\n",
      "Error when executing Python code: solution() got an unexpected keyword argument 'var_A'\n",
      "An error occurred during the verification process: must be real number, not NoneType\n",
      "An error occurred during the verification process: 'Code_Result'\n",
      "Syntax error in the expression: invalid syntax (<string>, line 1)\n",
      "An error occurred during the verification process: must be real number, not NoneType\n"
     ]
    },
    {
     "name": "stderr",
     "output_type": "stream",
     "text": [
      "Fetching 6 files: 100%|██████████| 6/6 [00:00<00:00, 13273.11it/s]/it]\n",
      "Fetching 6 files: 100%|██████████| 6/6 [00:00<00:00, 30467.10it/s]\n"
     ]
    },
    {
     "name": "stdout",
     "output_type": "stream",
     "text": [
      "5\n",
      "Error when executing Python code: name 'solution' is not defined\n",
      "An error occurred during the verification process: must be real number, not NoneType\n",
      "12\n",
      "Error when executing Python code: name 'solution' is not defined\n",
      "An error occurred during the verification process: must be real number, not NoneType\n",
      "Syntax error in the expression: invalid syntax (<string>, line 1)\n",
      "An error occurred during the verification process: must be real number, not NoneType\n",
      "An error occurred during the verification process: 'Code_Result'\n"
     ]
    },
    {
     "name": "stderr",
     "output_type": "stream",
     "text": [
      "Fetching 6 files: 100%|██████████| 6/6 [00:00<00:00, 14997.51it/s]/it]\n",
      "Fetching 6 files: 100%|██████████| 6/6 [00:00<00:00, 142987.64it/s]\n"
     ]
    },
    {
     "name": "stdout",
     "output_type": "stream",
     "text": [
      "Error when executing Python code: name 'solution' is not defined\n",
      "An error occurred during the verification process: must be real number, not NoneType\n",
      "Tomatoes: (5, 15)\n",
      "Potatoes: (5, 15)\n",
      "Error when executing Python code: name 'solution' is not defined\n",
      "An error occurred during the verification process: must be real number, not NoneType\n",
      "Syntax error in the expression: invalid syntax (<string>, line 1)\n",
      "An error occurred during the verification process: must be real number, not NoneType\n",
      "Syntax error in the expression: invalid syntax (<string>, line 1)\n",
      "An error occurred during the verification process: must be real number, not NoneType\n"
     ]
    },
    {
     "name": "stderr",
     "output_type": "stream",
     "text": [
      "Fetching 6 files: 100%|██████████| 6/6 [00:00<00:00, 14751.36it/s]/it]\n"
     ]
    },
    {
     "name": "stdout",
     "output_type": "stream",
     "text": [
      "Error when executing Python code: name 'solution' is not defined\n",
      "An error occurred during the verification process: must be real number, not NoneType\n"
     ]
    },
    {
     "name": "stderr",
     "output_type": "stream",
     "text": [
      "Fetching 6 files: 100%|██████████| 6/6 [00:00<00:00, 11904.36it/s]\n"
     ]
    },
    {
     "name": "stdout",
     "output_type": "stream",
     "text": [
      "Syntax error in the expression: invalid syntax (<string>, line 1)\n",
      "An error occurred during the verification process: must be real number, not NoneType\n",
      "Oranges: 0, Bananas: 0\n",
      "Error when executing Python code: name 'solution' is not defined\n",
      "An error occurred during the verification process: must be real number, not NoneType\n"
     ]
    },
    {
     "name": "stderr",
     "output_type": "stream",
     "text": [
      "Fetching 6 files: 100%|██████████| 6/6 [00:00<00:00, 10736.27it/s]/it]\n"
     ]
    },
    {
     "name": "stdout",
     "output_type": "stream",
     "text": [
      "Error when executing Python code: solution() got an unexpected keyword argument 'var_A'\n",
      "An error occurred during the verification process: must be real number, not NoneType\n",
      "An error occurred during the verification process: 'Code_Result'\n"
     ]
    },
    {
     "name": "stderr",
     "output_type": "stream",
     "text": [
      "Fetching 6 files: 100%|██████████| 6/6 [00:00<00:00, 7740.95it/s]\n"
     ]
    },
    {
     "name": "stdout",
     "output_type": "stream",
     "text": [
      "Error when executing Python code: name 'solution' is not defined\n",
      "An error occurred during the verification process: must be real number, not NoneType\n",
      "Syntax error in the expression: invalid syntax (<string>, line 2)\n",
      "An error occurred during the verification process: must be real number, not NoneType\n"
     ]
    },
    {
     "name": "stderr",
     "output_type": "stream",
     "text": [
      "Fetching 6 files: 100%|██████████| 6/6 [00:00<00:00, 10292.77it/s]/it]\n"
     ]
    },
    {
     "name": "stdout",
     "output_type": "stream",
     "text": [
      "Syntax error in the expression: invalid syntax (<string>, line 1)\n",
      "An error occurred during the verification process: must be real number, not NoneType\n"
     ]
    },
    {
     "name": "stderr",
     "output_type": "stream",
     "text": [
      "Fetching 6 files: 100%|██████████| 6/6 [00:00<00:00, 8633.22it/s]\n"
     ]
    },
    {
     "name": "stdout",
     "output_type": "stream",
     "text": [
      "Syntax error in the expression: invalid syntax (<string>, line 1)\n",
      "An error occurred during the verification process: must be real number, not NoneType\n",
      "5\n",
      "5\n",
      "5\n",
      "5\n",
      "5\n",
      "5\n",
      "5\n",
      "Syntax error in the expression: invalid decimal literal (<string>, line 1)\n",
      "An error occurred during the verification process: must be real number, not NoneType\n",
      "Syntax error in the expression: invalid decimal literal (<string>, line 3)\n",
      "An error occurred during the verification process: must be real number, not NoneType\n"
     ]
    },
    {
     "name": "stderr",
     "output_type": "stream",
     "text": [
      "Fetching 6 files: 100%|██████████| 6/6 [00:00<00:00, 8568.55it/s]s/it]\n"
     ]
    },
    {
     "name": "stdout",
     "output_type": "stream",
     "text": [
      "25\n",
      "Error when executing Python code: name 'solution' is not defined\n",
      "An error occurred during the verification process: must be real number, not NoneType\n"
     ]
    },
    {
     "name": "stderr",
     "output_type": "stream",
     "text": [
      "Fetching 6 files: 100%|██████████| 6/6 [00:00<00:00, 14631.29it/s]\n"
     ]
    },
    {
     "name": "stdout",
     "output_type": "stream",
     "text": [
      "5.0\n",
      "Error when executing Python code: name 'solution' is not defined\n",
      "An error occurred during the verification process: must be real number, not NoneType\n",
      "Syntax error in the expression: invalid syntax (<string>, line 1)\n",
      "An error occurred during the verification process: must be real number, not NoneType\n"
     ]
    },
    {
     "name": "stderr",
     "output_type": "stream",
     "text": [
      "Fetching 6 files: 100%|██████████| 6/6 [00:00<00:00, 13486.51it/s]/it]\n"
     ]
    },
    {
     "name": "stdout",
     "output_type": "stream",
     "text": [
      "Syntax error in the expression: invalid syntax (<string>, line 1)\n",
      "An error occurred during the verification process: must be real number, not NoneType\n"
     ]
    },
    {
     "name": "stderr",
     "output_type": "stream",
     "text": [
      "Fetching 6 files: 100%|██████████| 6/6 [00:00<00:00, 9104.86it/s]\n"
     ]
    },
    {
     "name": "stdout",
     "output_type": "stream",
     "text": [
      "40\n",
      "Error when executing Python code: name 'solution' is not defined\n",
      "An error occurred during the verification process: must be real number, not NoneType\n",
      "Error when executing Python code: name 'solution' is not defined\n",
      "An error occurred during the verification process: must be real number, not NoneType\n",
      "Syntax error in the expression: invalid syntax (<string>, line 1)\n",
      "An error occurred during the verification process: must be real number, not NoneType\n",
      "Syntax error in the expression: invalid syntax (<string>, line 1)\n",
      "An error occurred during the verification process: must be real number, not NoneType\n"
     ]
    },
    {
     "name": "stderr",
     "output_type": "stream",
     "text": [
      "Fetching 6 files: 100%|██████████| 6/6 [00:00<00:00, 10102.70it/s]/it]\n",
      "Fetching 6 files: 100%|██████████| 6/6 [00:00<00:00, 10271.76it/s]\n"
     ]
    },
    {
     "name": "stdout",
     "output_type": "stream",
     "text": [
      "Error when executing Python code: solution() got an unexpected keyword argument 'var_B'\n",
      "An error occurred during the verification process: must be real number, not NoneType\n",
      "Error when executing Python code: solution() got an unexpected keyword argument 'var_A'\n",
      "An error occurred during the verification process: must be real number, not NoneType\n",
      "Syntax error in the expression: invalid syntax (<string>, line 1)\n",
      "An error occurred during the verification process: must be real number, not NoneType\n",
      "An error occurred during the verification process: 'Code_Result'\n"
     ]
    },
    {
     "name": "stderr",
     "output_type": "stream",
     "text": [
      "Fetching 6 files: 100%|██████████| 6/6 [00:00<00:00, 10086.50it/s]/it]\n",
      "Fetching 6 files: 100%|██████████| 6/6 [00:00<00:00, 10416.32it/s]\n"
     ]
    },
    {
     "name": "stdout",
     "output_type": "stream",
     "text": [
      "Error when executing Python code: name 'solution' is not defined\n",
      "An error occurred during the verification process: must be real number, not NoneType\n",
      "3\n",
      "3\n",
      "Runtime error during expression evaluation: 'NoneType' object is not subscriptable\n",
      "An error occurred during the verification process: must be real number, not NoneType\n"
     ]
    },
    {
     "name": "stderr",
     "output_type": "stream",
     "text": [
      "Processing Questions:  54%|█████▍    | 54/100 [03:25<03:16,  4.27s/it]"
     ]
    },
    {
     "name": "stdout",
     "output_type": "stream",
     "text": [
      "Syntax error in the expression: invalid syntax (<string>, line 1)\n",
      "An error occurred during the verification process: must be real number, not NoneType\n"
     ]
    },
    {
     "name": "stderr",
     "output_type": "stream",
     "text": [
      "Fetching 6 files: 100%|██████████| 6/6 [00:00<00:00, 16090.68it/s]\n",
      "Fetching 6 files: 100%|██████████| 6/6 [00:00<00:00, 17747.41it/s]\n"
     ]
    },
    {
     "name": "stdout",
     "output_type": "stream",
     "text": [
      "2.0\n",
      "Error when executing Python code: name 'solution' is not defined\n",
      "An error occurred during the verification process: must be real number, not NoneType\n",
      "5\n",
      "Error when executing Python code: name 'solution' is not defined\n",
      "An error occurred during the verification process: must be real number, not NoneType\n",
      "Runtime error during expression evaluation: 'NoneType' object is not subscriptable\n",
      "An error occurred during the verification process: must be real number, not NoneType\n",
      "Syntax error in the expression: invalid syntax (<string>, line 1)\n",
      "An error occurred during the verification process: must be real number, not NoneType\n"
     ]
    },
    {
     "name": "stderr",
     "output_type": "stream",
     "text": [
      "Fetching 6 files: 100%|██████████| 6/6 [00:00<00:00, 15270.52it/s]/it]\n",
      "Fetching 6 files: 100%|██████████| 6/6 [00:00<00:00, 18131.00it/s]\n"
     ]
    },
    {
     "name": "stdout",
     "output_type": "stream",
     "text": [
      "Syntax error in the expression: invalid syntax (<string>, line 1)\n",
      "An error occurred during the verification process: must be real number, not NoneType\n",
      "10.0\n",
      "Error when executing Python code: name 'solution' is not defined\n",
      "An error occurred during the verification process: must be real number, not NoneType\n",
      "Syntax error in the expression: invalid syntax (<string>, line 1)\n",
      "An error occurred during the verification process: must be real number, not NoneType\n",
      "Syntax error in the expression: invalid syntax (<string>, line 1)\n",
      "An error occurred during the verification process: must be real number, not NoneType\n"
     ]
    },
    {
     "name": "stderr",
     "output_type": "stream",
     "text": [
      "Fetching 6 files: 100%|██████████| 6/6 [00:00<00:00, 11130.40it/s]/it]\n",
      "Fetching 6 files: 100%|██████████| 6/6 [00:00<00:00, 11491.24it/s]\n"
     ]
    },
    {
     "name": "stdout",
     "output_type": "stream",
     "text": [
      "Error when executing Python code: solution() got an unexpected keyword argument 'var_A'\n",
      "An error occurred during the verification process: must be real number, not NoneType\n",
      "Error when executing Python code: name 'solution' is not defined\n",
      "An error occurred during the verification process: must be real number, not NoneType\n",
      "Syntax error in the expression: invalid syntax (<string>, line 1)\n",
      "An error occurred during the verification process: must be real number, not NoneType\n"
     ]
    },
    {
     "name": "stderr",
     "output_type": "stream",
     "text": [
      "Fetching 6 files: 100%|██████████| 6/6 [00:00<00:00, 10221.70it/s]/it]\n",
      "Fetching 6 files: 100%|██████████| 6/6 [00:00<00:00, 12684.39it/s]\n"
     ]
    },
    {
     "name": "stdout",
     "output_type": "stream",
     "text": [
      "Error when executing Python code: name 'solution' is not defined\n",
      "An error occurred during the verification process: must be real number, not NoneType\n",
      "Error when executing Python code: name 'solution' is not defined\n",
      "An error occurred during the verification process: must be real number, not NoneType\n",
      "Syntax error in the expression: invalid syntax (<string>, line 1)\n",
      "An error occurred during the verification process: must be real number, not NoneType\n",
      "Syntax error in the expression: invalid decimal literal (<string>, line 1)\n",
      "An error occurred during the verification process: must be real number, not NoneType\n"
     ]
    },
    {
     "name": "stderr",
     "output_type": "stream",
     "text": [
      "Fetching 6 files: 100%|██████████| 6/6 [00:00<00:00, 12846.26it/s]/it]\n"
     ]
    },
    {
     "name": "stdout",
     "output_type": "stream",
     "text": [
      "Error when executing Python code: solution() got an unexpected keyword argument 'var_B'\n",
      "An error occurred during the verification process: must be real number, not NoneType\n"
     ]
    },
    {
     "name": "stderr",
     "output_type": "stream",
     "text": [
      "Fetching 6 files: 100%|██████████| 6/6 [00:00<00:00, 21826.39it/s]\n"
     ]
    },
    {
     "name": "stdout",
     "output_type": "stream",
     "text": [
      "45\n",
      "Error when executing Python code: name 'solution' is not defined\n",
      "An error occurred during the verification process: must be real number, not NoneType\n",
      "Syntax error in the expression: invalid syntax (<string>, line 1)\n",
      "An error occurred during the verification process: must be real number, not NoneType\n"
     ]
    },
    {
     "name": "stderr",
     "output_type": "stream",
     "text": [
      "Fetching 6 files: 100%|██████████| 6/6 [00:00<00:00, 17439.93it/s]/it]\n"
     ]
    },
    {
     "name": "stdout",
     "output_type": "stream",
     "text": [
      "Syntax error in the expression: invalid syntax (<string>, line 1)\n",
      "An error occurred during the verification process: must be real number, not NoneType\n",
      "Syntax error in the expression: invalid syntax (<string>, line 1)\n",
      "An error occurred during the verification process: must be real number, not NoneType\n"
     ]
    },
    {
     "name": "stderr",
     "output_type": "stream",
     "text": [
      "Fetching 6 files: 100%|██████████| 6/6 [00:00<00:00, 45839.39it/s]\n",
      "Processing Questions:  66%|██████▌   | 66/100 [04:09<02:06,  3.73s/it]"
     ]
    },
    {
     "name": "stdout",
     "output_type": "stream",
     "text": [
      "Error when executing Python code: solution() got an unexpected keyword argument 'var_A'\n",
      "An error occurred during the verification process: must be real number, not NoneType\n"
     ]
    },
    {
     "name": "stderr",
     "output_type": "stream",
     "text": [
      "Fetching 6 files: 100%|██████████| 6/6 [00:00<00:00, 13364.75it/s]\n",
      "Fetching 6 files: 100%|██████████| 6/6 [00:00<00:00, 15837.52it/s]\n"
     ]
    },
    {
     "name": "stdout",
     "output_type": "stream",
     "text": [
      "-2\n",
      "Error when executing Python code: name 'solution' is not defined\n",
      "An error occurred during the verification process: must be real number, not NoneType\n",
      "10.0\n",
      "Error when executing Python code: name 'solution' is not defined\n",
      "An error occurred during the verification process: must be real number, not NoneType\n",
      "An error occurred during the verification process: 'Code_Result'\n",
      "Syntax error in the expression: invalid syntax (<string>, line 1)\n",
      "An error occurred during the verification process: must be real number, not NoneType\n"
     ]
    },
    {
     "name": "stderr",
     "output_type": "stream",
     "text": [
      "Fetching 6 files: 100%|██████████| 6/6 [00:00<00:00, 8427.94it/s]s/it]\n",
      "Fetching 6 files: 100%|██████████| 6/6 [00:00<00:00, 11517.54it/s]\n"
     ]
    },
    {
     "name": "stdout",
     "output_type": "stream",
     "text": [
      "Error when executing Python code: name 'solution' is not defined\n",
      "An error occurred during the verification process: must be real number, not NoneType\n",
      "An error occurred during the verification process: 'Code_Result'\n",
      "An error occurred during the verification process: 'Code_Result'\n"
     ]
    },
    {
     "name": "stderr",
     "output_type": "stream",
     "text": [
      "Fetching 6 files: 100%|██████████| 6/6 [00:00<00:00, 11898.73it/s]/it]\n",
      "Fetching 6 files: 100%|██████████| 6/6 [00:00<00:00, 9007.10it/s]\n"
     ]
    },
    {
     "name": "stdout",
     "output_type": "stream",
     "text": [
      "5\n",
      "Error when executing Python code: name 'solution' is not defined\n",
      "An error occurred during the verification process: must be real number, not NoneType\n",
      "20\n",
      "Error when executing Python code: name 'solution' is not defined\n",
      "An error occurred during the verification process: must be real number, not NoneType\n",
      "An error occurred during the verification process: 'Code_Result'\n",
      "Syntax error in the expression: invalid syntax (<string>, line 1)\n",
      "An error occurred during the verification process: must be real number, not NoneType\n"
     ]
    },
    {
     "name": "stderr",
     "output_type": "stream",
     "text": [
      "Fetching 6 files: 100%|██████████| 6/6 [00:00<00:00, 10672.53it/s]/it]\n",
      "Fetching 6 files: 100%|██████████| 6/6 [00:00<00:00, 16256.99it/s]\n"
     ]
    },
    {
     "name": "stdout",
     "output_type": "stream",
     "text": [
      "-10\n",
      "Error when executing Python code: name 'solution' is not defined\n",
      "An error occurred during the verification process: must be real number, not NoneType\n",
      "Syntax error in the expression: invalid syntax (<string>, line 1)\n",
      "An error occurred during the verification process: must be real number, not NoneType\n",
      "Syntax error in the expression: invalid syntax (<string>, line 1)\n",
      "An error occurred during the verification process: must be real number, not NoneType\n",
      "Syntax error in the expression: invalid syntax (<string>, line 1)\n",
      "An error occurred during the verification process: must be real number, not NoneType\n"
     ]
    },
    {
     "name": "stderr",
     "output_type": "stream",
     "text": [
      "Fetching 6 files: 100%|██████████| 6/6 [00:00<00:00, 12000.87it/s]/it]\n",
      "Fetching 6 files: 100%|██████████| 6/6 [00:00<00:00, 5394.60it/s]\n"
     ]
    },
    {
     "name": "stdout",
     "output_type": "stream",
     "text": [
      "Error when executing Python code: name 'solution' is not defined\n",
      "An error occurred during the verification process: must be real number, not NoneType\n",
      "180\n",
      "Error when executing Python code: name 'solution' is not defined\n",
      "An error occurred during the verification process: must be real number, not NoneType\n",
      "An error occurred during the verification process: 'Code_Result'\n",
      "An error occurred during the verification process: 'Code_Result'\n"
     ]
    },
    {
     "name": "stderr",
     "output_type": "stream",
     "text": [
      "Fetching 6 files: 100%|██████████| 6/6 [00:00<00:00, 18752.48it/s]/it]\n",
      "Fetching 6 files: 100%|██████████| 6/6 [00:00<00:00, 17178.04it/s]\n"
     ]
    },
    {
     "name": "stdout",
     "output_type": "stream",
     "text": [
      "Error when executing Python code: solution() got an unexpected keyword argument 'var_A'\n",
      "An error occurred during the verification process: must be real number, not NoneType\n",
      "Syntax error in the expression: invalid syntax (<string>, line 1)\n",
      "An error occurred during the verification process: must be real number, not NoneType\n",
      "Syntax error in the expression: invalid syntax (<string>, line 1)\n",
      "An error occurred during the verification process: must be real number, not NoneType\n",
      "Syntax error in the expression: invalid syntax (<string>, line 1)\n",
      "An error occurred during the verification process: must be real number, not NoneType\n"
     ]
    },
    {
     "name": "stderr",
     "output_type": "stream",
     "text": [
      "Fetching 6 files: 100%|██████████| 6/6 [00:00<00:00, 17549.39it/s]/it]\n",
      "Fetching 6 files: 100%|██████████| 6/6 [00:00<00:00, 32939.56it/s]\n"
     ]
    },
    {
     "name": "stdout",
     "output_type": "stream",
     "text": [
      "Error when executing Python code: name 'solution' is not defined\n",
      "An error occurred during the verification process: must be real number, not NoneType\n",
      "5\n",
      "5\n",
      "Syntax error in the expression: invalid syntax (<string>, line 1)\n",
      "An error occurred during the verification process: must be real number, not NoneType\n",
      "Syntax error in the expression: invalid syntax (<string>, line 1)\n",
      "An error occurred during the verification process: must be real number, not NoneType\n"
     ]
    },
    {
     "name": "stderr",
     "output_type": "stream",
     "text": [
      "Fetching 6 files: 100%|██████████| 6/6 [00:00<00:00, 8210.71it/s]s/it]\n",
      "Fetching 6 files: 100%|██████████| 6/6 [00:00<00:00, 8597.82it/s]\n"
     ]
    },
    {
     "name": "stdout",
     "output_type": "stream",
     "text": [
      "Syntax error in the expression: invalid syntax (<string>, line 1)\n",
      "An error occurred during the verification process: must be real number, not NoneType\n",
      "60\n",
      "Error when executing Python code: name 'solution' is not defined\n",
      "An error occurred during the verification process: must be real number, not NoneType\n",
      "Syntax error in the expression: invalid syntax (<string>, line 1)\n",
      "An error occurred during the verification process: must be real number, not NoneType\n",
      "Syntax error in the expression: invalid syntax (<string>, line 1)\n",
      "An error occurred during the verification process: must be real number, not NoneType\n"
     ]
    },
    {
     "name": "stderr",
     "output_type": "stream",
     "text": [
      "Fetching 6 files: 100%|██████████| 6/6 [00:00<00:00, 14786.03it/s]/it]\n",
      "Fetching 6 files: 100%|██████████| 6/6 [00:00<00:00, 10975.06it/s]\n"
     ]
    },
    {
     "name": "stdout",
     "output_type": "stream",
     "text": [
      "3\n",
      "Error when executing Python code: name 'solution' is not defined\n",
      "An error occurred during the verification process: must be real number, not NoneType\n",
      "Syntax error in the expression: invalid syntax (<string>, line 1)\n",
      "An error occurred during the verification process: must be real number, not NoneType\n",
      "Syntax error in the expression: invalid syntax (<string>, line 1)\n",
      "An error occurred during the verification process: must be real number, not NoneType\n"
     ]
    },
    {
     "name": "stderr",
     "output_type": "stream",
     "text": [
      "Fetching 6 files: 100%|██████████| 6/6 [00:00<00:00, 12294.00it/s]/it]\n"
     ]
    },
    {
     "name": "stdout",
     "output_type": "stream",
     "text": [
      "Syntax error in the expression: invalid syntax (<string>, line 1)\n",
      "An error occurred during the verification process: must be real number, not NoneType\n",
      "5\n",
      "Error when executing Python code: name 'solution' is not defined\n",
      "An error occurred during the verification process: must be real number, not NoneType\n"
     ]
    },
    {
     "name": "stderr",
     "output_type": "stream",
     "text": [
      "Fetching 6 files: 100%|██████████| 6/6 [00:00<00:00, 14185.92it/s]\n"
     ]
    },
    {
     "name": "stdout",
     "output_type": "stream",
     "text": [
      "An error occurred during the verification process: 'Code_Result'\n",
      "2\n",
      "Error when executing Python code: name 'solution' is not defined\n",
      "An error occurred during the verification process: must be real number, not NoneType\n"
     ]
    },
    {
     "name": "stderr",
     "output_type": "stream",
     "text": [
      "Fetching 6 files: 100%|██████████| 6/6 [00:00<00:00, 10525.23it/s]/it]\n"
     ]
    },
    {
     "name": "stdout",
     "output_type": "stream",
     "text": [
      "Syntax error in the expression: invalid syntax (<string>, line 1)\n",
      "An error occurred during the verification process: must be real number, not NoneType\n",
      "Syntax error in the expression: invalid syntax (<string>, line 1)\n",
      "An error occurred during the verification process: must be real number, not NoneType\n"
     ]
    },
    {
     "name": "stderr",
     "output_type": "stream",
     "text": [
      "Fetching 6 files: 100%|██████████| 6/6 [00:00<00:00, 8076.32it/s]\n"
     ]
    },
    {
     "name": "stdout",
     "output_type": "stream",
     "text": [
      "Syntax error in the expression: invalid syntax (<string>, line 1)\n",
      "An error occurred during the verification process: must be real number, not NoneType\n",
      "Syntax error in the expression: invalid syntax (<string>, line 1)\n",
      "An error occurred during the verification process: must be real number, not NoneType\n",
      "Syntax error in the expression: invalid syntax (<string>, line 1)\n",
      "An error occurred during the verification process: must be real number, not NoneType\n"
     ]
    },
    {
     "name": "stderr",
     "output_type": "stream",
     "text": [
      "Fetching 6 files: 100%|██████████| 6/6 [00:00<00:00, 16341.44it/s]/it]\n"
     ]
    },
    {
     "name": "stdout",
     "output_type": "stream",
     "text": [
      "Error when executing Python code: name 'solution' is not defined\n",
      "An error occurred during the verification process: must be real number, not NoneType\n"
     ]
    },
    {
     "name": "stderr",
     "output_type": "stream",
     "text": [
      "Fetching 6 files: 100%|██████████| 6/6 [00:00<00:00, 17189.77it/s]\n"
     ]
    },
    {
     "name": "stdout",
     "output_type": "stream",
     "text": [
      "Error when executing Python code: name 'solution' is not defined\n",
      "An error occurred during the verification process: must be real number, not NoneType\n",
      "Syntax error in the expression: invalid syntax (<string>, line 1)\n",
      "An error occurred during the verification process: must be real number, not NoneType\n"
     ]
    },
    {
     "name": "stderr",
     "output_type": "stream",
     "text": [
      "Fetching 6 files: 100%|██████████| 6/6 [00:00<00:00, 9834.24it/s]s/it]\n",
      "Fetching 6 files: 100%|██████████| 6/6 [00:00<00:00, 14563.56it/s]\n"
     ]
    },
    {
     "name": "stdout",
     "output_type": "stream",
     "text": [
      "40\n",
      "Error when executing Python code: name 'solution' is not defined\n",
      "An error occurred during the verification process: must be real number, not NoneType\n",
      "10\n",
      "Error when executing Python code: name 'solution' is not defined\n",
      "An error occurred during the verification process: must be real number, not NoneType\n",
      "Syntax error in the expression: invalid syntax (<string>, line 1)\n",
      "An error occurred during the verification process: must be real number, not NoneType\n"
     ]
    },
    {
     "name": "stderr",
     "output_type": "stream",
     "text": [
      "Fetching 6 files: 100%|██████████| 6/6 [00:00<00:00, 15958.04it/s]/it]\n"
     ]
    },
    {
     "name": "stdout",
     "output_type": "stream",
     "text": [
      "5\n",
      "Error when executing Python code: name 'solution' is not defined\n",
      "An error occurred during the verification process: must be real number, not NoneType\n"
     ]
    },
    {
     "name": "stderr",
     "output_type": "stream",
     "text": [
      "Fetching 6 files: 100%|██████████| 6/6 [00:00<00:00, 22898.84it/s]\n"
     ]
    },
    {
     "name": "stdout",
     "output_type": "stream",
     "text": [
      "Syntax error in the expression: invalid syntax (<string>, line 1)\n",
      "An error occurred during the verification process: must be real number, not NoneType\n",
      "Syntax error in the expression: invalid syntax (<string>, line 1)\n",
      "An error occurred during the verification process: must be real number, not NoneType\n"
     ]
    },
    {
     "name": "stderr",
     "output_type": "stream",
     "text": [
      "Processing Questions:  94%|█████████▍| 94/100 [05:44<00:17,  2.94s/it]"
     ]
    },
    {
     "name": "stdout",
     "output_type": "stream",
     "text": [
      "Syntax error in the expression: invalid syntax (<string>, line 1)\n",
      "An error occurred during the verification process: must be real number, not NoneType\n"
     ]
    },
    {
     "name": "stderr",
     "output_type": "stream",
     "text": [
      "Fetching 6 files: 100%|██████████| 6/6 [00:00<00:00, 10750.03it/s]\n",
      "Fetching 6 files: 100%|██████████| 6/6 [00:00<00:00, 20068.44it/s]\n"
     ]
    },
    {
     "name": "stdout",
     "output_type": "stream",
     "text": [
      "15\n",
      "Error when executing Python code: name 'solution' is not defined\n",
      "An error occurred during the verification process: must be real number, not NoneType\n",
      "Jack received 30 emails in the morning and 40 emails in the evening.\n",
      "Error when executing Python code: name 'solution' is not defined\n",
      "An error occurred during the verification process: must be real number, not NoneType\n",
      "Syntax error in the expression: invalid syntax (<string>, line 1)\n",
      "An error occurred during the verification process: must be real number, not NoneType\n",
      "Syntax error in the expression: invalid decimal literal (<string>, line 1)\n",
      "An error occurred during the verification process: must be real number, not NoneType\n"
     ]
    },
    {
     "name": "stderr",
     "output_type": "stream",
     "text": [
      "Fetching 6 files: 100%|██████████| 6/6 [00:00<00:00, 11259.88it/s]/it]\n",
      "Fetching 6 files: 100%|██████████| 6/6 [00:00<00:00, 17697.49it/s]\n"
     ]
    },
    {
     "name": "stdout",
     "output_type": "stream",
     "text": [
      "0\n",
      "Error when executing Python code: name 'solution' is not defined\n",
      "An error occurred during the verification process: must be real number, not NoneType\n",
      "An error occurred during the verification process: 'Code_Result'\n",
      "An error occurred during the verification process: 'Code_Result'\n"
     ]
    },
    {
     "name": "stderr",
     "output_type": "stream",
     "text": [
      "Fetching 6 files: 100%|██████████| 6/6 [00:00<00:00, 15151.01it/s]/it]\n"
     ]
    },
    {
     "name": "stdout",
     "output_type": "stream",
     "text": [
      "Error when executing Python code: solution() got an unexpected keyword argument 'var_A'\n",
      "An error occurred during the verification process: must be real number, not NoneType\n",
      "Syntax error in the expression: invalid syntax (<string>, line 1)\n",
      "An error occurred during the verification process: must be real number, not NoneType\n"
     ]
    },
    {
     "name": "stderr",
     "output_type": "stream",
     "text": [
      "Fetching 6 files: 100%|██████████| 6/6 [00:00<00:00, 9344.90it/s]\n",
      "Processing Questions: 100%|██████████| 100/100 [06:10<00:00,  3.70s/it]\n",
      "Fetching 6 files: 100%|██████████| 6/6 [00:00<00:00, 19676.17it/s]\n"
     ]
    },
    {
     "name": "stdout",
     "output_type": "stream",
     "text": [
      "Error when executing Python code: name 'solution' is not defined\n",
      "An error occurred during the verification process: must be real number, not NoneType\n",
      "5\n",
      "Error when executing Python code: name 'solution' is not defined\n",
      "An error occurred during the verification process: must be real number, not NoneType\n",
      "Syntax error in the expression: invalid syntax (<string>, line 1)\n",
      "An error occurred during the verification process: must be real number, not NoneType\n",
      "Syntax error in the expression: invalid syntax (<string>, line 1)\n",
      "An error occurred during the verification process: must be real number, not NoneType\n"
     ]
    },
    {
     "name": "stderr",
     "output_type": "stream",
     "text": [
      "Fetching 6 files: 100%|██████████| 6/6 [00:00<00:00, 16341.44it/s]\n"
     ]
    },
    {
     "name": "stdout",
     "output_type": "stream",
     "text": [
      "An error occurred during the verification process: 'Code_Result'\n"
     ]
    },
    {
     "data": {
      "text/plain": [
       "[None,\n",
       " None,\n",
       " None,\n",
       " None,\n",
       " None,\n",
       " None,\n",
       " None,\n",
       " None,\n",
       " None,\n",
       " None,\n",
       " None,\n",
       " None,\n",
       " None,\n",
       " None,\n",
       " None,\n",
       " None,\n",
       " None,\n",
       " None,\n",
       " None,\n",
       " None,\n",
       " None,\n",
       " None,\n",
       " None,\n",
       " None,\n",
       " None,\n",
       " None,\n",
       " None,\n",
       " None,\n",
       " None,\n",
       " None,\n",
       " None,\n",
       " None,\n",
       " None,\n",
       " None,\n",
       " None,\n",
       " None,\n",
       " None,\n",
       " None,\n",
       " None,\n",
       " None,\n",
       " None,\n",
       " None,\n",
       " None,\n",
       " None,\n",
       " None,\n",
       " None,\n",
       " None,\n",
       " None,\n",
       " None,\n",
       " None,\n",
       " None,\n",
       " None,\n",
       " None,\n",
       " None,\n",
       " None,\n",
       " None,\n",
       " None,\n",
       " None,\n",
       " None,\n",
       " None,\n",
       " None,\n",
       " None,\n",
       " None,\n",
       " None,\n",
       " None,\n",
       " None,\n",
       " None,\n",
       " None,\n",
       " None,\n",
       " None,\n",
       " None,\n",
       " None,\n",
       " None,\n",
       " None,\n",
       " None,\n",
       " None,\n",
       " None,\n",
       " None,\n",
       " None,\n",
       " None,\n",
       " None,\n",
       " None,\n",
       " None,\n",
       " None,\n",
       " None,\n",
       " None,\n",
       " None,\n",
       " None,\n",
       " None,\n",
       " None,\n",
       " None,\n",
       " None,\n",
       " None,\n",
       " None,\n",
       " None,\n",
       " None,\n",
       " None,\n",
       " None,\n",
       " None,\n",
       " None]"
      ]
     },
     "execution_count": 22,
     "metadata": {},
     "output_type": "execute_result"
    }
   ],
   "source": [
    "# Run the parallelized function\n",
    "reset_csv_files()\n",
    "process_question_partial = partial(process_question, debug=False)\n",
    "Parallel(n_jobs=6)(delayed(process_question_partial)(item) for item in tqdm(data[:100], desc=\"Processing Questions\"))"
   ]
  },
  {
   "cell_type": "code",
   "execution_count": 23,
   "metadata": {},
   "outputs": [
    {
     "name": "stderr",
     "output_type": "stream",
     "text": [
      "Fetching 6 files: 100%|██████████| 6/6 [00:00<00:00, 115439.56it/s]\n"
     ]
    },
    {
     "name": "stdout",
     "output_type": "stream",
     "text": [
      "30\n",
      "Error when executing Python code: name 'solution' is not defined\n",
      "An error occurred during the verification process: must be real number, not NoneType\n",
      "MathPrompter\n",
      "defaultdict(<function mathprompter.<locals>.<lambda> at 0x30a50ab90>, {'Expression': 'var_A - var_B', 'Code': 'def find_bottle_caps(var_A, var_B):\\n    return var_A + var_B\\n\\nprint(find_bottle_caps(10, 20))', 'Error': True, 'Error_Message': 'must be real number, not NoneType', 'Result': None, 'Expression_Result': None, 'Code_Result': None})\n",
      "{'Question': 'Danny collects bottle caps. He lost 66 bottle caps at the park. Now he has 25 bottle caps in his collection. How many bottle caps did danny have at first?', 'Type': 'Addition', 'Correct Answer': 91.0, 'Predicted Answer': None, 'Predicted Algebraic Answer': None, 'Predicted Python Answer': None, 'Generated Algebraic Template': 'Danny collects bottle caps. He lost var_A bottle caps at the park. Now he has var_B bottle caps in his collection. How many bottle caps did danny have at first?', 'Generated Expression': 'var_A - var_B', 'Generated Python Code': 'def find_bottle_caps(var_A, var_B):\\n    return var_A + var_B\\n\\nprint(find_bottle_caps(10, 20))', 'Variable Mapping': {'var_A': 66.0, 'var_B': 25.0}, 'Error': True, 'Error Message': 'must be real number, not NoneType'}\n",
      "Syntax error in the expression: invalid syntax (<string>, line 1)\n",
      "An error occurred during the verification process: must be real number, not NoneType\n",
      "MathPrompter++\n",
      "defaultdict(<function mathprompterpp.<locals>.<lambda> at 0x30a50b370>, {'Rough_Solution': \"Here are the rough steps to solve the problem:\\n\\n1. Let's say Danny had x bottle caps initially.\\n2. We know that he lost 66 bottle caps at the park.\\n3. After losing 66 bottle caps, Danny has 25 bottle caps left.\\n4. To find the initial number of bottle caps, we need to add the number of lost caps to the number of caps he has left.\\n5. So, the equation will be: x + 66 = 25\\n6. To solve for x, we need to isolate the variable x.\\n7. We can do this by subtracting 66 from both sides of the equation.\\n8. This will give us: x = 25 - 66\\n9. Simplifying the equation, we get: x = -41\\n10. However, we know that the number of bottle caps cannot be negative, so we need to find the correct solution.\\n11. Let's try to find the correct solution by adding\", 'Expression': 'x + 66 + 25 = 25 + 66', 'Code': 'def solution(var_A, var_B):\\n    return var_A + var_B - 66', 'Error': True, 'Error_Message': 'must be real number, not NoneType', 'Result': None, 'Expression_Result': None, 'Code_Result': None})\n",
      "{'Question': 'Danny collects bottle caps. He lost 66 bottle caps at the park. Now he has 25 bottle caps in his collection. How many bottle caps did danny have at first?', 'Type': 'Addition', 'Correct Answer': 91.0, 'Predicted Answer': None, 'Predicted Algebraic Answer': None, 'Predicted Python Answer': None, 'Generated Algebraic Template': 'Danny collects bottle caps. He lost var_A bottle caps at the park. Now he has var_B bottle caps in his collection. How many bottle caps did danny have at first?', 'Rough Solution': \"Here are the rough steps to solve the problem:\\n\\n1. Let's say Danny had x bottle caps initially.\\n2. We know that he lost 66 bottle caps at the park.\\n3. After losing 66 bottle caps, Danny has 25 bottle caps left.\\n4. To find the initial number of bottle caps, we need to add the number of lost caps to the number of caps he has left.\\n5. So, the equation will be: x + 66 = 25\\n6. To solve for x, we need to isolate the variable x.\\n7. We can do this by subtracting 66 from both sides of the equation.\\n8. This will give us: x = 25 - 66\\n9. Simplifying the equation, we get: x = -41\\n10. However, we know that the number of bottle caps cannot be negative, so we need to find the correct solution.\\n11. Let's try to find the correct solution by adding\", 'Generated Expression': 'x + 66 + 25 = 25 + 66', 'Generated Python Code': 'def solution(var_A, var_B):\\n    return var_A + var_B - 66', 'Variable Mapping': {'var_A': 66.0, 'var_B': 25.0}, 'Error': True, 'Error Message': 'must be real number, not NoneType'}\n",
      "Zeroshot CoT\n",
      "defaultdict(<function zeroshotCoT.<locals>.<lambda> at 0x30a50b1c0>, {'Error': False, 'Error_Message': '', 'Response': \"Let's break it down step by step:\\n\\n1. Danny lost 66 bottle caps at the park.\\n2. He now has 25 bottle caps in his collection.\\n3. To find out how many bottle caps Danny had at first, we need to add the number of bottle caps he lost to the number he has now.\\n\\nFirst, let's add the number of bottle caps he lost to the number he has now:\\n25 (current bottle caps) + 66 (lost bottle caps) = 91\\n\\nSo, Danny had 91 bottle caps at first.To find the correct answer, let's re-evaluate the steps:\\n\\n1. Danny lost 66 bottle caps at the park.\\n2. He now has 25 bottle caps in his collection.\\n3. To find out how many bottle caps Danny had at first, we need to add the number of bottle caps he lost to the number he has now.\\n\\nFirst, let's add the number of bottle caps he lost to the number he has now:\\n25 (current bottle caps) + 66 (lost bottle caps) = 91\\n\\nSince the question asks for the number of bottle caps Danny had at first, we need to subtract the number of bottle caps he lost from the total number of bottle caps he has now.\\n\\nLet's subtract the number of bottle caps he lost from the total number of bottle caps he has now:\\n91 (current bottle caps) - 66 (lost bottle caps) = 25\\n\\nSo, Danny had 25 bottle caps at first.\\n\\nThe correct answer is:\", 'Answer': 1.0})\n",
      "{'Question': 'Danny collects bottle caps. He lost 66 bottle caps at the park. Now he has 25 bottle caps in his collection. How many bottle caps did danny have at first?', 'Type': 'Addition', 'Correct Answer': 91.0, 'Predicted Answer': 1.0, 'Response': \"Let's break it down step by step:\\n\\n1. Danny lost 66 bottle caps at the park.\\n2. He now has 25 bottle caps in his collection.\\n3. To find out how many bottle caps Danny had at first, we need to add the number of bottle caps he lost to the number he has now.\\n\\nFirst, let's add the number of bottle caps he lost to the number he has now:\\n25 (current bottle caps) + 66 (lost bottle caps) = 91\\n\\nSo, Danny had 91 bottle caps at first.To find the correct answer, let's re-evaluate the steps:\\n\\n1. Danny lost 66 bottle caps at the park.\\n2. He now has 25 bottle caps in his collection.\\n3. To find out how many bottle caps Danny had at first, we need to add the number of bottle caps he lost to the number he has now.\\n\\nFirst, let's add the number of bottle caps he lost to the number he has now:\\n25 (current bottle caps) + 66 (lost bottle caps) = 91\\n\\nSince the question asks for the number of bottle caps Danny had at first, we need to subtract the number of bottle caps he lost from the total number of bottle caps he has now.\\n\\nLet's subtract the number of bottle caps he lost from the total number of bottle caps he has now:\\n91 (current bottle caps) - 66 (lost bottle caps) = 25\\n\\nSo, Danny had 25 bottle caps at first.\\n\\nThe correct answer is:\", 'Error': False, 'Error Message': ''}\n"
     ]
    }
   ],
   "source": [
    "process_question(data[0], debug=True)"
   ]
  }
 ],
 "metadata": {
  "kernelspec": {
   "display_name": "llms",
   "language": "python",
   "name": "python3"
  },
  "language_info": {
   "codemirror_mode": {
    "name": "ipython",
    "version": 3
   },
   "file_extension": ".py",
   "mimetype": "text/x-python",
   "name": "python",
   "nbconvert_exporter": "python",
   "pygments_lexer": "ipython3",
   "version": "3.10.15"
  }
 },
 "nbformat": 4,
 "nbformat_minor": 2
}
