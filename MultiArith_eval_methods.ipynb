{
 "cells": [
  {
   "cell_type": "code",
   "execution_count": 1,
   "metadata": {},
   "outputs": [
    {
     "data": {
      "text/plain": [
       "True"
      ]
     },
     "execution_count": 1,
     "metadata": {},
     "output_type": "execute_result"
    }
   ],
   "source": [
    "# Standard imports\n",
    "import json\n",
    "from tqdm import tqdm\n",
    "import sys\n",
    "import pandas as pd\n",
    "import random\n",
    "import os\n",
    "from joblib import Parallel, delayed\n",
    "import joblib\n",
    "from collections import defaultdict\n",
    "import importlib\n",
    "from functools import partial\n",
    "import csv\n",
    "import dotenv\n",
    "import math\n",
    "dotenv.load_dotenv()"
   ]
  },
  {
   "cell_type": "code",
   "execution_count": 2,
   "metadata": {},
   "outputs": [
    {
     "name": "stderr",
     "output_type": "stream",
     "text": [
      "/Users/s/miniforge3/envs/llms/lib/python3.10/site-packages/tqdm/auto.py:21: TqdmWarning: IProgress not found. Please update jupyter and ipywidgets. See https://ipywidgets.readthedocs.io/en/stable/user_install.html\n",
      "  from .autonotebook import tqdm as notebook_tqdm\n"
     ]
    },
    {
     "data": {
      "text/plain": [
       "<module 'llm_inference.llm_factory' from '/Users/s/Desktop/Academics/Quarter 4/CSE256/Project/FinalCode/llm_inference/llm_factory.py'>"
      ]
     },
     "execution_count": 2,
     "metadata": {},
     "output_type": "execute_result"
    }
   ],
   "source": [
    "# Method imports\n",
    "sys.path.append('..')\n",
    "\n",
    "from methods.mathprompterpp import mathprompterpp\n",
    "from methods.mathprompter import mathprompter\n",
    "from methods.zeroshotCoT import zeroshotCoT\n",
    "from utils.method_utils import generating_algebraic_template\n",
    "from utils.plot_utils import compute_detailed_metrics, plot_individual_metrics\n",
    "from llm_inference.llm_factory import get_llm_service\n",
    "\n",
    "import methods.mathprompterpp\n",
    "import methods.mathprompter\n",
    "import methods.zeroshotCoT\n",
    "import utils.method_utils\n",
    "import llm_inference.llm_factory\n",
    "\n",
    "importlib.reload(methods.mathprompterpp)\n",
    "importlib.reload(methods.zeroshotCoT)   \n",
    "importlib.reload(utils.method_utils)\n",
    "importlib.reload(llm_inference.llm_factory)\n"
   ]
  },
  {
   "cell_type": "code",
   "execution_count": 3,
   "metadata": {},
   "outputs": [],
   "source": [
    "# Initialize parameters\n",
    "suffix = str(random.randint(1, 1000000))\n",
    "random.seed(42)\n",
    "model_service = 'llama'\n",
    "model_name = 'mlx-community/Llama-3.2-1B-Instruct-4bit'\n",
    "# model_service = 'openai'\n",
    "# model_name = 'gpt-4o-mini'\n",
    "data_size = 600\n",
    "max_tokens = 200\n",
    "few_shot = False\n",
    "consensus_k = 5"
   ]
  },
  {
   "cell_type": "code",
   "execution_count": 4,
   "metadata": {},
   "outputs": [],
   "source": [
    "# Initialize model and data\n",
    "# SERVICE = get_llm_service(model_service, model_name, temperature=0.0, max_tokens=max_tokens)\n",
    "# SERVICE = defaultdict(lambda: None)\n",
    "# def initialize_model():\n",
    "#     global SERVICE\n",
    "#     if SERVICE[joblib.worker_id()] is None:\n",
    "#         SERVICE[joblib.worker_id()] = get_llm_service(model_service, model_name, temperature=0.0, max_tokens=max_tokens)"
   ]
  },
  {
   "cell_type": "code",
   "execution_count": 5,
   "metadata": {},
   "outputs": [],
   "source": [
    "# Define the methods you want to evaluate\n",
    "run_methods = [\"MathPrompter\", \"MathPrompter++\", \"Zeroshot CoT\"]  # Example methods"
   ]
  },
  {
   "cell_type": "code",
   "execution_count": 6,
   "metadata": {},
   "outputs": [
    {
     "name": "stdout",
     "output_type": "stream",
     "text": [
      "375291_multiarith_Llama-3.2-1B-Instruct-4bit_600\n"
     ]
    }
   ],
   "source": [
    "with open('data/multiarith.json', 'r') as file:\n",
    "    data = json.load(file)\n",
    "data = random.sample(data, k=data_size)  # Take a random sample of 100 rows\n",
    "\n",
    "suffix += \"_multiarith_\" + model_name.split(\"/\")[-1] + \"_\" + str(data_size) \n",
    "suffix += \"_few_shot\" if few_shot else \"\"\n",
    "print(suffix)\n",
    "\n",
    "# Create folder if not exists\n",
    "if not os.path.exists('results/' + suffix):\n",
    "    os.makedirs('results/' + suffix)"
   ]
  },
  {
   "cell_type": "code",
   "execution_count": 7,
   "metadata": {},
   "outputs": [],
   "source": [
    "if \"MathPrompter\" in run_methods:\n",
    "    # MathPrompter\n",
    "    header_mathprompter = [\"Question\", \"Correct Answer\", \"Predicted Answer\", \"Predicted Algebraic Answer\", \"Predicted Python Answer\", \"Generated Algebraic Template\", \"Generated Expression\", \"Generated Python Code\", \"Variable Mapping\", \"Error\", \"Error Message\"]\n",
    "    df_mathprompter = pd.DataFrame(columns=header_mathprompter)\n",
    "    csv_file_mathprompter = 'results/' + suffix + '/mathprompter_results.csv'  # CSV file path\n",
    "\n",
    "if \"MathPrompter++\" in run_methods:\n",
    "    # MathPrompter++\n",
    "    header_mathprompterpp = [\"Question\", \"Correct Answer\", \"Predicted Answer\", \"Predicted Algebraic Answer\", \"Predicted Python Answer\", \"Generated Algebraic Template\", \"Rough Solution\", \"Generated Expression\", \"Generated Python Code\", \"Variable Mapping\", \"Error\", \"Error Message\"]\n",
    "    df_mathprompterpp = pd.DataFrame(columns=header_mathprompterpp)\n",
    "    csv_file_mathprompterpp = 'results/' + suffix + '/mathprompterpp_results.csv'  # CSV file path\n",
    "\n",
    "if \"Zeroshot CoT\" in run_methods:\n",
    "    # Zeroshot CoT\n",
    "    header_zeroshot_cot = [\"Question\", \"Correct Answer\", \"Predicted Answer\", \"Response\", \"Error\", \"Error Message\"]\n",
    "    df_zeroshot_cot = pd.DataFrame(columns=header_zeroshot_cot)\n",
    "    csv_file_zeroshot_cot = 'results/' + suffix + '/zeroshot_cot_results.csv'  # CSV file path\n",
    "\n",
    "# Example of saving the DataFrames to CSV files\n",
    "if \"MathPrompter\" in run_methods:\n",
    "    df_mathprompter.to_csv(csv_file_mathprompter, index=False)\n",
    "\n",
    "if \"MathPrompter++\" in run_methods:\n",
    "    df_mathprompterpp.to_csv(csv_file_mathprompterpp, index=False)\n",
    "\n",
    "if \"Zeroshot CoT\" in run_methods:\n",
    "    df_zeroshot_cot.to_csv(csv_file_zeroshot_cot, index=False)\n"
   ]
  },
  {
   "cell_type": "code",
   "execution_count": 8,
   "metadata": {},
   "outputs": [],
   "source": [
    "def reset_csv_files():\n",
    "    if \"MathPrompter\" in run_methods:\n",
    "        with open(csv_file_mathprompter, 'w') as f:\n",
    "            writer = csv.writer(f)\n",
    "            writer.writerow(header_mathprompter)\n",
    "    if \"MathPrompter++\" in run_methods:\n",
    "        with open(csv_file_mathprompterpp, 'w') as f:\n",
    "            writer = csv.writer(f)\n",
    "            writer.writerow(header_mathprompterpp)\n",
    "    if \"Zeroshot CoT\" in run_methods:\n",
    "        with open(csv_file_zeroshot_cot, 'w') as f:\n",
    "            writer = csv.writer(f)\n",
    "            writer.writerow(header_zeroshot_cot)\n"
   ]
  },
  {
   "cell_type": "code",
   "execution_count": 9,
   "metadata": {},
   "outputs": [],
   "source": [
    "# Parallelize across different data rows using joblib\n",
    "def process_question(item, debug = False):\n",
    "    SERVICE = get_llm_service(model_service, model_name, temperature=0.0, max_tokens=max_tokens)\n",
    "    question = item[\"question\"]\n",
    "    correct_answer = item[\"final_ans\"]\n",
    "    qt, variable_mapping = generating_algebraic_template(question) \n",
    "    if \"MathPrompter\" in run_methods:   \n",
    "        mathprompter_answer = mathprompter(qt, variable_mapping, SERVICE, k = consensus_k, few_shot=few_shot)\n",
    "\n",
    "        # Create a dictionary for the new row\n",
    "        new_row = {\n",
    "            \"Question\": question,\n",
    "            \"Correct Answer\": correct_answer,\n",
    "            \"Predicted Answer\": mathprompter_answer[\"Result\"],\n",
    "            \"Predicted Algebraic Answer\": mathprompter_answer[\"Expression_Result\"],\n",
    "            \"Predicted Python Answer\": mathprompter_answer[\"Code_Result\"],\n",
    "            \"Generated Algebraic Template\": qt,\n",
    "            \"Generated Expression\": mathprompter_answer[\"Expression\"],\n",
    "            \"Generated Python Code\": mathprompter_answer[\"Code\"],\n",
    "            \"Variable Mapping\": variable_mapping,\n",
    "            \"Error\": mathprompter_answer[\"Error\"],\n",
    "            \"Error Message\": mathprompter_answer[\"Error_Message\"]\n",
    "        }\n",
    "        if debug:\n",
    "            print(\"MathPrompter\")\n",
    "            print(mathprompter_answer)\n",
    "            print(new_row)\n",
    "        # Append the new row to the DataFrame using pd.concat\n",
    "        # df_mathprompter = pd.concat([df_mathprompter, pd.DataFrame([new_row])], ignore_index=True)\n",
    "        # Write to csv\n",
    "        with open(csv_file_mathprompter, 'a') as f:\n",
    "            writer = csv.writer(f)\n",
    "            writer.writerow(new_row.values())\n",
    "    if \"MathPrompter++\" in run_methods:\n",
    "        mathprompterpp_answer = mathprompterpp(question, qt, variable_mapping, SERVICE, k = consensus_k, few_shot=few_shot)\n",
    "        \n",
    "        # Create a dictionary for the new row\n",
    "        new_row = {\n",
    "            \"Question\": question,\n",
    "            \"Correct Answer\": correct_answer,\n",
    "            \"Predicted Answer\": mathprompterpp_answer[\"Result\"],\n",
    "            \"Predicted Algebraic Answer\": mathprompterpp_answer[\"Expression_Result\"],\n",
    "            \"Predicted Python Answer\": mathprompterpp_answer[\"Code_Result\"],\n",
    "            \"Generated Algebraic Template\": qt,\n",
    "            \"Rough Solution\": mathprompterpp_answer[\"Rough_Solution\"],\n",
    "            \"Generated Expression\": mathprompterpp_answer[\"Expression\"],\n",
    "            \"Generated Python Code\": mathprompterpp_answer[\"Code\"],\n",
    "            \"Variable Mapping\": variable_mapping,\n",
    "            \"Error\": mathprompterpp_answer[\"Error\"],\n",
    "            \"Error Message\": mathprompterpp_answer[\"Error_Message\"]\n",
    "        }\n",
    "        if debug:\n",
    "            print(\"MathPrompter++\")\n",
    "            print(mathprompterpp_answer)\n",
    "            print(new_row)\n",
    "        # Append the new row to the DataFrame using pd.concat\n",
    "        # df_mathprompterpp = pd.concat([df_mathprompterpp, pd.DataFrame([new_row])], ignore_index=True)\n",
    "        # Write to csv\n",
    "        with open(csv_file_mathprompterpp, 'a') as f:\n",
    "            writer = csv.writer(f)\n",
    "            writer.writerow(new_row.values())\n",
    "    if \"Zeroshot CoT\" in run_methods:\n",
    "        zeroshot_cot_answer = zeroshotCoT(question, SERVICE, max_tokens)    \n",
    "\n",
    "        # Create a dictionary for the new row\n",
    "        new_row = {\n",
    "            \"Question\": question,\n",
    "            \"Correct Answer\": correct_answer,\n",
    "            \"Predicted Answer\": zeroshot_cot_answer[\"Answer\"],\n",
    "            \"Response\": zeroshot_cot_answer[\"Response\"],\n",
    "            \"Error\": zeroshot_cot_answer[\"Error\"],\n",
    "            \"Error Message\": zeroshot_cot_answer[\"Error_Message\"]\n",
    "        }\n",
    "        if debug:\n",
    "            print(\"Zeroshot CoT\")\n",
    "            print(zeroshot_cot_answer)\n",
    "            print(new_row)\n",
    "        # Append the new row to the DataFrame using pd.concat\n",
    "        # df_zeroshot_cot = pd.concat([df_zeroshot_cot, pd.DataFrame([new_row])], ignore_index=True)\n",
    "        # Write to csv\n",
    "        with open(csv_file_zeroshot_cot, 'a') as f:\n",
    "            writer = csv.writer(f)\n",
    "            writer.writerow(new_row.values())"
   ]
  },
  {
   "cell_type": "code",
   "execution_count": 10,
   "metadata": {},
   "outputs": [],
   "source": [
    "# Test \n",
    "# reset_csv_files()\n",
    "# # run_methods = [\"MathPrompter\", \"MathPrompter++\"]\n",
    "# for i in tqdm(range(600)):\n",
    "#     # print(data[i])\n",
    "#     process_question(data[i], debug=False)"
   ]
  },
  {
   "cell_type": "code",
   "execution_count": 11,
   "metadata": {},
   "outputs": [
    {
     "name": "stderr",
     "output_type": "stream",
     "text": [
      "Fetching 6 files: 100%|██████████| 6/6 [00:00<00:00, 10050.25it/s]\n",
      "Fetching 6 files: 100%|██████████| 6/6 [00:00<00:00, 12633.45it/s]\n",
      "Fetching 6 files: 100%|██████████| 6/6 [00:00<00:00, 22036.62it/s]\n",
      "Fetching 6 files: 100%|██████████| 6/6 [00:00<00:00, 12501.65it/s]\n"
     ]
    },
    {
     "name": "stdout",
     "output_type": "stream",
     "text": [
      "Error when executing Python code: name 'solution' is not defined\n",
      "An error occurred during the verification process: must be real number, not NoneType\n"
     ]
    },
    {
     "name": "stderr",
     "output_type": "stream",
     "text": [
      "Processing Questions:   8%|▊         | 8/100 [00:08<01:34,  1.03s/it]"
     ]
    },
    {
     "name": "stdout",
     "output_type": "stream",
     "text": [
      "-3\n",
      "Error when executing Python code: name 'solution' is not defined\n",
      "An error occurred during the verification process: must be real number, not NoneType\n",
      "An error occurred during the verification process: 'Code_Result'\n",
      "Error when executing Python code: name 'solution' is not defined\n",
      "An error occurred during the verification process: must be real number, not NoneType\n",
      "214\n",
      "Error when executing Python code: name 'solution' is not defined\n",
      "An error occurred during the verification process: must be real number, not NoneType\n"
     ]
    },
    {
     "name": "stderr",
     "output_type": "stream",
     "text": [
      "Fetching 6 files: 100%|██████████| 6/6 [00:00<00:00, 16810.84it/s]\n"
     ]
    },
    {
     "name": "stdout",
     "output_type": "stream",
     "text": [
      "8\n",
      "Error when executing Python code: name 'solution' is not defined\n",
      "An error occurred during the verification process: must be real number, not NoneType\n",
      "An error occurred during the verification process: 'Code_Result'\n"
     ]
    },
    {
     "name": "stderr",
     "output_type": "stream",
     "text": [
      "/Users/s/miniforge3/envs/llms/lib/python3.10/site-packages/joblib/externals/loky/process_executor.py:752: UserWarning: A worker stopped while some jobs were given to the executor. This can be caused by a too short worker timeout or by a memory leak.\n",
      "  warnings.warn(\n"
     ]
    },
    {
     "name": "stdout",
     "output_type": "stream",
     "text": [
      "An error occurred during the verification process: 'Code_Result'\n"
     ]
    },
    {
     "name": "stderr",
     "output_type": "stream",
     "text": [
      "Fetching 6 files: 100%|██████████| 6/6 [00:00<00:00, 14323.18it/s]\n"
     ]
    },
    {
     "name": "stdout",
     "output_type": "stream",
     "text": [
      "Syntax error in the expression: invalid syntax (<string>, line 1)\n",
      "An error occurred during the verification process: must be real number, not NoneType\n"
     ]
    },
    {
     "name": "stderr",
     "output_type": "stream",
     "text": [
      "Fetching 6 files: 100%|██████████| 6/6 [00:00<00:00, 14315.03it/s]\n",
      "Processing Questions:  12%|█▏        | 12/100 [00:15<02:00,  1.37s/it]"
     ]
    },
    {
     "name": "stdout",
     "output_type": "stream",
     "text": [
      "Syntax error in the expression: invalid syntax (<string>, line 1)\n",
      "An error occurred during the verification process: must be real number, not NoneType\n"
     ]
    },
    {
     "name": "stderr",
     "output_type": "stream",
     "text": [
      "Fetching 6 files: 100%|██████████| 6/6 [00:00<00:00, 15968.16it/s]\n"
     ]
    },
    {
     "name": "stdout",
     "output_type": "stream",
     "text": [
      "50\n",
      "Error when executing Python code: name 'solution' is not defined\n",
      "An error occurred during the verification process: must be real number, not NoneType\n",
      "Syntax error in the expression: invalid syntax (<string>, line 1)\n",
      "An error occurred during the verification process: must be real number, not NoneType\n"
     ]
    },
    {
     "name": "stderr",
     "output_type": "stream",
     "text": [
      "Fetching 6 files: 100%|██████████| 6/6 [00:00<00:00, 16946.68it/s]\n"
     ]
    },
    {
     "name": "stdout",
     "output_type": "stream",
     "text": [
      "Error when executing Python code: name 'solution' is not defined\n",
      "An error occurred during the verification process: must be real number, not NoneType\n",
      "60\n",
      "Error when executing Python code: name 'solution' is not defined\n",
      "An error occurred during the verification process: must be real number, not NoneType\n",
      "Syntax error in the expression: invalid character '÷' (U+00F7) (<string>, line 1)\n",
      "An error occurred during the verification process: must be real number, not NoneType\n"
     ]
    },
    {
     "name": "stderr",
     "output_type": "stream",
     "text": [
      "Fetching 6 files: 100%|██████████| 6/6 [00:00<00:00, 9358.80it/s]\n"
     ]
    },
    {
     "name": "stdout",
     "output_type": "stream",
     "text": [
      "An error occurred during the verification process: 'Code_Result'\n",
      "50\n",
      "Error when executing Python code: name 'solution' is not defined\n",
      "An error occurred during the verification process: must be real number, not NoneType\n",
      "Syntax error in the expression: invalid syntax (<string>, line 1)\n",
      "An error occurred during the verification process: must be real number, not NoneType\n",
      "An error occurred during the verification process: 'Code_Result'\n"
     ]
    },
    {
     "name": "stderr",
     "output_type": "stream",
     "text": [
      "Processing Questions:  16%|█▌        | 16/100 [00:24<02:24,  1.72s/it]"
     ]
    },
    {
     "name": "stdout",
     "output_type": "stream",
     "text": [
      "Syntax error in the expression: invalid syntax (<string>, line 1)\n",
      "An error occurred during the verification process: must be real number, not NoneType\n"
     ]
    },
    {
     "name": "stderr",
     "output_type": "stream",
     "text": [
      "Fetching 6 files: 100%|██████████| 6/6 [00:00<00:00, 11115.65it/s]\n"
     ]
    },
    {
     "name": "stdout",
     "output_type": "stream",
     "text": [
      "Syntax error in the expression: invalid syntax (<string>, line 1)\n",
      "An error occurred during the verification process: must be real number, not NoneType\n"
     ]
    },
    {
     "name": "stderr",
     "output_type": "stream",
     "text": [
      "Fetching 6 files: 100%|██████████| 6/6 [00:00<00:00, 13457.66it/s]\n",
      "Fetching 6 files: 100%|██████████| 6/6 [00:00<00:00, 15261.26it/s]\n",
      "Fetching 6 files: 100%|██████████| 6/6 [00:00<00:00, 15078.38it/s]\n"
     ]
    },
    {
     "name": "stdout",
     "output_type": "stream",
     "text": [
      "Syntax error in the expression: invalid syntax (<string>, line 1)\n",
      "An error occurred during the verification process: must be real number, not NoneType\n"
     ]
    },
    {
     "name": "stderr",
     "output_type": "stream",
     "text": [
      "Fetching 6 files: 100%|██████████| 6/6 [00:00<00:00, 21129.99it/s]\n"
     ]
    },
    {
     "name": "stdout",
     "output_type": "stream",
     "text": [
      "The money would last 100.0 weeks.\n",
      "Error when executing Python code: name 'solution' is not defined\n",
      "An error occurred during the verification process: must be real number, not NoneType\n",
      "1000.0\n",
      "Error when executing Python code: name 'solution' is not defined\n",
      "An error occurred during the verification process: must be real number, not NoneType\n",
      "Error when executing Python code: name 'solution' is not defined\n",
      "An error occurred during the verification process: must be real number, not NoneType\n",
      "5\n",
      "Error when executing Python code: name 'solution' is not defined\n",
      "An error occurred during the verification process: must be real number, not NoneType\n",
      "Syntax error in the expression: invalid syntax (<string>, line 1)\n",
      "An error occurred during the verification process: must be real number, not NoneType\n"
     ]
    },
    {
     "name": "stderr",
     "output_type": "stream",
     "text": [
      "Fetching 6 files: 100%|██████████| 6/6 [00:00<00:00, 14323.18it/s]\n",
      "Processing Questions:  20%|██        | 20/100 [00:37<03:00,  2.26s/it]"
     ]
    },
    {
     "name": "stdout",
     "output_type": "stream",
     "text": [
      "Syntax error in the expression: invalid syntax (<string>, line 1)\n",
      "An error occurred during the verification process: must be real number, not NoneType\n"
     ]
    },
    {
     "name": "stderr",
     "output_type": "stream",
     "text": [
      "Fetching 6 files: 100%|██████████| 6/6 [00:00<00:00, 10275.96it/s]\n"
     ]
    },
    {
     "name": "stdout",
     "output_type": "stream",
     "text": [
      "Syntax error in the expression: invalid syntax (<string>, line 1)\n",
      "An error occurred during the verification process: must be real number, not NoneType\n"
     ]
    },
    {
     "name": "stderr",
     "output_type": "stream",
     "text": [
      "Fetching 6 files: 100%|██████████| 6/6 [00:00<00:00, 18921.67it/s]\n"
     ]
    },
    {
     "name": "stdout",
     "output_type": "stream",
     "text": [
      "Error when executing Python code: name 'solution' is not defined\n",
      "An error occurred during the verification process: must be real number, not NoneType\n",
      "Syntax error in the expression: invalid syntax (<string>, line 1)\n",
      "An error occurred during the verification process: must be real number, not NoneType\n",
      "An error occurred during the verification process: 'Code_Result'\n"
     ]
    },
    {
     "name": "stderr",
     "output_type": "stream",
     "text": [
      "Fetching 6 files: 100%|██████████| 6/6 [00:00<00:00, 10547.29it/s]\n"
     ]
    },
    {
     "name": "stdout",
     "output_type": "stream",
     "text": [
      "Error when executing Python code: name 'solution' is not defined\n",
      "An error occurred during the verification process: must be real number, not NoneType\n",
      "Syntax error in the expression: invalid syntax (<string>, line 1)\n",
      "An error occurred during the verification process: must be real number, not NoneType\n",
      "An error occurred during the verification process: 'Code_Result'\n"
     ]
    },
    {
     "name": "stderr",
     "output_type": "stream",
     "text": [
      "Fetching 6 files: 100%|██████████| 6/6 [00:00<00:00, 11881.88it/s]\n",
      "Processing Questions:  24%|██▍       | 24/100 [00:48<03:02,  2.40s/it]"
     ]
    },
    {
     "name": "stdout",
     "output_type": "stream",
     "text": [
      "Syntax error in the expression: invalid syntax (<string>, line 1)\n",
      "An error occurred during the verification process: must be real number, not NoneType\n"
     ]
    },
    {
     "name": "stderr",
     "output_type": "stream",
     "text": [
      "Fetching 6 files: 100%|██████████| 6/6 [00:00<00:00, 33509.75it/s]\n"
     ]
    },
    {
     "name": "stdout",
     "output_type": "stream",
     "text": [
      "Syntax error in the expression: invalid syntax (<string>, line 1)\n",
      "An error occurred during the verification process: must be real number, not NoneType\n"
     ]
    },
    {
     "name": "stderr",
     "output_type": "stream",
     "text": [
      "Fetching 6 files: 100%|██████████| 6/6 [00:00<00:00, 10658.97it/s]\n"
     ]
    },
    {
     "name": "stdout",
     "output_type": "stream",
     "text": [
      "5\n",
      "Error when executing Python code: name 'solution' is not defined\n",
      "An error occurred during the verification process: must be real number, not NoneType\n",
      "Syntax error in the expression: invalid syntax (<string>, line 1)\n",
      "An error occurred during the verification process: must be real number, not NoneType\n",
      "Error when executing Python code: name 'solution' is not defined\n",
      "An error occurred during the verification process: must be real number, not NoneType\n"
     ]
    },
    {
     "name": "stderr",
     "output_type": "stream",
     "text": [
      "Fetching 6 files: 100%|██████████| 6/6 [00:00<00:00, 13189.64it/s]\n"
     ]
    },
    {
     "name": "stdout",
     "output_type": "stream",
     "text": [
      "32\n",
      "Error when executing Python code: name 'solution' is not defined\n",
      "An error occurred during the verification process: must be real number, not NoneType\n",
      "300\n",
      "Error when executing Python code: name 'solution' is not defined\n",
      "An error occurred during the verification process: must be real number, not NoneType\n",
      "Syntax error in the expression: invalid character '÷' (U+00F7) (<string>, line 2)\n",
      "An error occurred during the verification process: must be real number, not NoneType\n"
     ]
    },
    {
     "name": "stderr",
     "output_type": "stream",
     "text": [
      "Fetching 6 files: 100%|██████████| 6/6 [00:00<00:00, 25627.11it/s]\n",
      "Processing Questions:  28%|██▊       | 28/100 [00:57<02:47,  2.33s/it]"
     ]
    },
    {
     "name": "stdout",
     "output_type": "stream",
     "text": [
      "An error occurred during the verification process: 'Code_Result'\n"
     ]
    },
    {
     "name": "stderr",
     "output_type": "stream",
     "text": [
      "Fetching 6 files: 100%|██████████| 6/6 [00:00<00:00, 10114.88it/s]\n"
     ]
    },
    {
     "name": "stdout",
     "output_type": "stream",
     "text": [
      "5\n",
      "Error when executing Python code: name 'solution' is not defined\n",
      "An error occurred during the verification process: must be real number, not NoneType\n",
      "An error occurred during the verification process: 'Code_Result'\n"
     ]
    },
    {
     "name": "stderr",
     "output_type": "stream",
     "text": [
      "Fetching 6 files: 100%|██████████| 6/6 [00:00<00:00, 6748.68it/s]\n"
     ]
    },
    {
     "name": "stdout",
     "output_type": "stream",
     "text": [
      "An error occurred during the verification process: 'Code_Result'\n"
     ]
    },
    {
     "name": "stderr",
     "output_type": "stream",
     "text": [
      "Fetching 6 files: 100%|██████████| 6/6 [00:00<00:00, 11110.74it/s]\n"
     ]
    },
    {
     "name": "stdout",
     "output_type": "stream",
     "text": [
      "320\n",
      "Error when executing Python code: name 'solution' is not defined\n",
      "An error occurred during the verification process: must be real number, not NoneType\n",
      "Error when executing Python code: name 'solution' is not defined\n",
      "An error occurred during the verification process: must be real number, not NoneType\n",
      "An error occurred during the verification process: 'Code_Result'\n"
     ]
    },
    {
     "name": "stderr",
     "output_type": "stream",
     "text": [
      "Fetching 6 files: 100%|██████████| 6/6 [00:00<00:00, 13988.78it/s]\n",
      "Processing Questions:  32%|███▏      | 32/100 [01:08<02:46,  2.45s/it]"
     ]
    },
    {
     "name": "stdout",
     "output_type": "stream",
     "text": [
      "An error occurred during the verification process: 'Code_Result'\n"
     ]
    },
    {
     "name": "stderr",
     "output_type": "stream",
     "text": [
      "Fetching 6 files: 100%|██████████| 6/6 [00:00<00:00, 12576.62it/s]\n"
     ]
    },
    {
     "name": "stdout",
     "output_type": "stream",
     "text": [
      "20\n",
      "Error when executing Python code: name 'solution' is not defined\n",
      "An error occurred during the verification process: must be real number, not NoneType\n",
      "Syntax error in the expression: invalid syntax (<string>, line 1)\n",
      "An error occurred during the verification process: must be real number, not NoneType\n"
     ]
    },
    {
     "name": "stderr",
     "output_type": "stream",
     "text": [
      "Fetching 6 files: 100%|██████████| 6/6 [00:00<00:00, 15307.68it/s]\n"
     ]
    },
    {
     "name": "stdout",
     "output_type": "stream",
     "text": [
      "120\n",
      "Error when executing Python code: name 'solution' is not defined\n",
      "An error occurred during the verification process: must be real number, not NoneType\n"
     ]
    },
    {
     "name": "stderr",
     "output_type": "stream",
     "text": [
      "Fetching 6 files: 100%|██████████| 6/6 [00:00<00:00, 14605.82it/s]\n"
     ]
    },
    {
     "name": "stdout",
     "output_type": "stream",
     "text": [
      "Syntax error in the expression: invalid syntax (<string>, line 1)\n",
      "An error occurred during the verification process: must be real number, not NoneType\n"
     ]
    },
    {
     "name": "stderr",
     "output_type": "stream",
     "text": [
      "Fetching 6 files: 100%|██████████| 6/6 [00:00<00:00, 13544.58it/s]\n"
     ]
    },
    {
     "name": "stdout",
     "output_type": "stream",
     "text": [
      "200\n",
      "Error when executing Python code: name 'solution' is not defined\n",
      "An error occurred during the verification process: must be real number, not NoneType\n"
     ]
    },
    {
     "name": "stderr",
     "output_type": "stream",
     "text": [
      "Processing Questions:  36%|███▌      | 36/100 [01:16<02:27,  2.31s/it]"
     ]
    },
    {
     "name": "stdout",
     "output_type": "stream",
     "text": [
      "Syntax error in the expression: invalid syntax (<string>, line 1)\n",
      "An error occurred during the verification process: must be real number, not NoneType\n"
     ]
    },
    {
     "name": "stderr",
     "output_type": "stream",
     "text": [
      "Fetching 6 files: 100%|██████████| 6/6 [00:00<00:00, 11650.84it/s]\n"
     ]
    },
    {
     "name": "stdout",
     "output_type": "stream",
     "text": [
      "Error when executing Python code: name 'solution' is not defined\n",
      "An error occurred during the verification process: must be real number, not NoneType\n",
      "Syntax error in the expression: invalid syntax (<string>, line 1)\n",
      "An error occurred during the verification process: must be real number, not NoneType\n"
     ]
    },
    {
     "name": "stderr",
     "output_type": "stream",
     "text": [
      "Fetching 6 files: 100%|██████████| 6/6 [00:00<00:00, 19050.59it/s]\n"
     ]
    },
    {
     "name": "stdout",
     "output_type": "stream",
     "text": [
      "1700\n",
      "Error when executing Python code: name 'solution' is not defined\n",
      "An error occurred during the verification process: must be real number, not NoneType\n",
      "Syntax error in the expression: invalid syntax (<string>, line 1)\n",
      "An error occurred during the verification process: must be real number, not NoneType\n"
     ]
    },
    {
     "name": "stderr",
     "output_type": "stream",
     "text": [
      "Fetching 6 files: 100%|██████████| 6/6 [00:00<00:00, 9935.19it/s]\n"
     ]
    },
    {
     "name": "stdout",
     "output_type": "stream",
     "text": [
      "Syntax error in the expression: invalid syntax (<string>, line 1)\n",
      "An error occurred during the verification process: must be real number, not NoneType\n"
     ]
    },
    {
     "name": "stderr",
     "output_type": "stream",
     "text": [
      "Fetching 6 files: 100%|██████████| 6/6 [00:00<00:00, 16721.48it/s]\n",
      "Fetching 6 files: 100%|██████████| 6/6 [00:00<00:00, 7090.96it/s]s/it]\n"
     ]
    },
    {
     "name": "stdout",
     "output_type": "stream",
     "text": [
      "Syntax error in the expression: invalid syntax (<string>, line 1)\n",
      "An error occurred during the verification process: must be real number, not NoneType\n",
      "5\n",
      "Error when executing Python code: name 'solution' is not defined\n",
      "An error occurred during the verification process: must be real number, not NoneType\n",
      "An error occurred during the verification process: 'Code_Result'\n"
     ]
    },
    {
     "name": "stderr",
     "output_type": "stream",
     "text": [
      "Fetching 6 files: 100%|██████████| 6/6 [00:00<00:00, 11013.49it/s]\n"
     ]
    },
    {
     "name": "stdout",
     "output_type": "stream",
     "text": [
      "Error when executing Python code: name 'solution' is not defined\n",
      "An error occurred during the verification process: must be real number, not NoneType\n",
      "Error when executing Python code: solution() got an unexpected keyword argument 'var_A'\n",
      "An error occurred during the verification process: must be real number, not NoneType\n",
      "Syntax error in the expression: invalid syntax (<string>, line 1)\n",
      "An error occurred during the verification process: must be real number, not NoneType\n"
     ]
    },
    {
     "name": "stderr",
     "output_type": "stream",
     "text": [
      "Fetching 6 files: 100%|██████████| 6/6 [00:00<00:00, 8901.95it/s]\n"
     ]
    },
    {
     "name": "stdout",
     "output_type": "stream",
     "text": [
      "Syntax error in the expression: invalid syntax (<string>, line 1)\n",
      "An error occurred during the verification process: must be real number, not NoneType\n"
     ]
    },
    {
     "name": "stderr",
     "output_type": "stream",
     "text": [
      "Fetching 6 files: 100%|██████████| 6/6 [00:00<00:00, 11402.73it/s]\n",
      "Processing Questions:  44%|████▍     | 44/100 [01:33<02:04,  2.23s/it]"
     ]
    },
    {
     "name": "stdout",
     "output_type": "stream",
     "text": [
      "Syntax error in the expression: invalid syntax (<string>, line 1)\n",
      "An error occurred during the verification process: must be real number, not NoneType\n"
     ]
    },
    {
     "name": "stderr",
     "output_type": "stream",
     "text": [
      "Fetching 6 files: 100%|██████████| 6/6 [00:00<00:00, 10326.56it/s]\n"
     ]
    },
    {
     "name": "stdout",
     "output_type": "stream",
     "text": [
      "100\n",
      "Error when executing Python code: name 'solution' is not defined\n",
      "An error occurred during the verification process: must be real number, not NoneType\n",
      "300\n",
      "Error when executing Python code: name 'solution' is not defined\n",
      "An error occurred during the verification process: must be real number, not NoneType\n",
      "4\n",
      "Error when executing Python code: name 'solution' is not defined\n",
      "An error occurred during the verification process: must be real number, not NoneType\n",
      "Syntax error in the expression: invalid syntax (<string>, line 1)\n",
      "An error occurred during the verification process: must be real number, not NoneType\n"
     ]
    },
    {
     "name": "stderr",
     "output_type": "stream",
     "text": [
      "Fetching 6 files: 100%|██████████| 6/6 [00:00<00:00, 18342.44it/s]\n"
     ]
    },
    {
     "name": "stdout",
     "output_type": "stream",
     "text": [
      "Error when executing Python code: name 'solution' is not defined\n",
      "An error occurred during the verification process: must be real number, not NoneType\n",
      "Syntax error in the expression: invalid syntax (<string>, line 1)\n",
      "An error occurred during the verification process: must be real number, not NoneType\n"
     ]
    },
    {
     "name": "stderr",
     "output_type": "stream",
     "text": [
      "Fetching 6 files: 100%|██████████| 6/6 [00:00<00:00, 10852.02it/s]\n"
     ]
    },
    {
     "name": "stdout",
     "output_type": "stream",
     "text": [
      "Syntax error in the expression: invalid decimal literal (<string>, line 1)\n",
      "An error occurred during the verification process: must be real number, not NoneType\n"
     ]
    },
    {
     "name": "stderr",
     "output_type": "stream",
     "text": [
      "Fetching 6 files: 100%|██████████| 6/6 [00:00<00:00, 32099.27it/s]\n"
     ]
    },
    {
     "name": "stdout",
     "output_type": "stream",
     "text": [
      "25\n",
      "Error when executing Python code: name 'solution' is not defined\n",
      "An error occurred during the verification process: must be real number, not NoneType\n",
      "Error when executing Python code: name 'solution' is not defined\n",
      "An error occurred during the verification process: must be real number, not NoneType\n"
     ]
    },
    {
     "name": "stderr",
     "output_type": "stream",
     "text": [
      "Processing Questions:  48%|████▊     | 48/100 [01:46<02:10,  2.51s/it]"
     ]
    },
    {
     "name": "stdout",
     "output_type": "stream",
     "text": [
      "Syntax error in the expression: invalid syntax (<string>, line 1)\n",
      "An error occurred during the verification process: must be real number, not NoneType\n"
     ]
    },
    {
     "name": "stderr",
     "output_type": "stream",
     "text": [
      "Fetching 6 files: 100%|██████████| 6/6 [00:00<00:00, 8322.03it/s]\n"
     ]
    },
    {
     "name": "stdout",
     "output_type": "stream",
     "text": [
      "20\n",
      "Error when executing Python code: name 'solution' is not defined\n",
      "An error occurred during the verification process: must be real number, not NoneType\n",
      "An error occurred during the verification process: 'Code_Result'\n"
     ]
    },
    {
     "name": "stderr",
     "output_type": "stream",
     "text": [
      "Fetching 6 files: 100%|██████████| 6/6 [00:00<00:00, 14250.18it/s]\n"
     ]
    },
    {
     "name": "stdout",
     "output_type": "stream",
     "text": [
      "An error occurred during the verification process: 'Code_Result'\n"
     ]
    },
    {
     "name": "stderr",
     "output_type": "stream",
     "text": [
      "Fetching 6 files: 100%|██████████| 6/6 [00:00<00:00, 10618.49it/s]\n"
     ]
    },
    {
     "name": "stdout",
     "output_type": "stream",
     "text": [
      "Syntax error in the expression: invalid syntax (<string>, line 1)\n",
      "An error occurred during the verification process: must be real number, not NoneType\n",
      "Syntax error in the expression: invalid syntax (<string>, line 1)\n",
      "An error occurred during the verification process: must be real number, not NoneType\n"
     ]
    },
    {
     "name": "stderr",
     "output_type": "stream",
     "text": [
      "Fetching 6 files: 100%|██████████| 6/6 [00:00<00:00, 7886.50it/s]\n"
     ]
    },
    {
     "name": "stdout",
     "output_type": "stream",
     "text": [
      "1\n",
      "Error when executing Python code: name 'solution' is not defined\n",
      "An error occurred during the verification process: must be real number, not NoneType\n",
      "Error when executing Python code: name 'solution' is not defined\n",
      "An error occurred during the verification process: must be real number, not NoneType\n"
     ]
    },
    {
     "name": "stderr",
     "output_type": "stream",
     "text": [
      "Processing Questions:  52%|█████▏    | 52/100 [01:53<01:52,  2.35s/it]"
     ]
    },
    {
     "name": "stdout",
     "output_type": "stream",
     "text": [
      "An error occurred during the verification process: 'Code_Result'\n"
     ]
    },
    {
     "name": "stderr",
     "output_type": "stream",
     "text": [
      "Fetching 6 files: 100%|██████████| 6/6 [00:00<00:00, 11859.48it/s]\n"
     ]
    },
    {
     "name": "stdout",
     "output_type": "stream",
     "text": [
      "Error when executing Python code: solution() got an unexpected keyword argument 'var_A'\n",
      "An error occurred during the verification process: must be real number, not NoneType\n",
      "Syntax error in the expression: invalid syntax (<string>, line 1)\n",
      "An error occurred during the verification process: must be real number, not NoneType\n",
      "Syntax error in the expression: invalid syntax (<string>, line 1)\n",
      "An error occurred during the verification process: must be real number, not NoneType\n",
      "Syntax error in the expression: invalid syntax (<string>, line 1)\n",
      "An error occurred during the verification process: must be real number, not NoneType\n"
     ]
    },
    {
     "name": "stderr",
     "output_type": "stream",
     "text": [
      "Fetching 6 files: 100%|██████████| 6/6 [00:00<00:00, 8402.61it/s]\n",
      "Fetching 6 files: 100%|██████████| 6/6 [00:00<00:00, 13566.48it/s]\n",
      "Fetching 6 files: 100%|██████████| 6/6 [00:00<00:00, 17296.10it/s]\n",
      "Processing Questions:  56%|█████▌    | 56/100 [02:00<01:33,  2.12s/it]"
     ]
    },
    {
     "name": "stdout",
     "output_type": "stream",
     "text": [
      "Syntax error in the expression: invalid character '÷' (U+00F7) (<string>, line 2)\n",
      "An error occurred during the verification process: must be real number, not NoneType\n"
     ]
    },
    {
     "name": "stderr",
     "output_type": "stream",
     "text": [
      "Fetching 6 files: 100%|██████████| 6/6 [00:00<00:00, 8624.34it/s]\n"
     ]
    },
    {
     "name": "stdout",
     "output_type": "stream",
     "text": [
      "Error when executing Python code: name 'solution' is not defined\n",
      "An error occurred during the verification process: must be real number, not NoneType\n",
      "7000\n",
      "Error when executing Python code: name 'solution' is not defined\n",
      "An error occurred during the verification process: must be real number, not NoneType\n",
      "25\n",
      "Error when executing Python code: name 'solution' is not defined\n",
      "An error occurred during the verification process: must be real number, not NoneType\n"
     ]
    },
    {
     "name": "stderr",
     "output_type": "stream",
     "text": [
      "Fetching 6 files: 100%|██████████| 6/6 [00:00<00:00, 9218.25it/s]\n"
     ]
    },
    {
     "name": "stdout",
     "output_type": "stream",
     "text": [
      "Syntax error in the expression: invalid syntax (<string>, line 1)\n",
      "An error occurred during the verification process: must be real number, not NoneType\n"
     ]
    },
    {
     "name": "stderr",
     "output_type": "stream",
     "text": [
      "Fetching 6 files: 100%|██████████| 6/6 [00:00<00:00, 7651.51it/s]\n"
     ]
    },
    {
     "name": "stdout",
     "output_type": "stream",
     "text": [
      "Error when executing Python code: name 'solution' is not defined\n",
      "An error occurred during the verification process: must be real number, not NoneType\n"
     ]
    },
    {
     "name": "stderr",
     "output_type": "stream",
     "text": [
      "Processing Questions:  60%|██████    | 60/100 [02:09<01:27,  2.18s/it]"
     ]
    },
    {
     "name": "stdout",
     "output_type": "stream",
     "text": [
      "An error occurred during the verification process: 'Code_Result'\n",
      "Syntax error in the expression: invalid syntax (<string>, line 1)\n",
      "An error occurred during the verification process: must be real number, not NoneType\n"
     ]
    },
    {
     "name": "stderr",
     "output_type": "stream",
     "text": [
      "Fetching 6 files: 100%|██████████| 6/6 [00:00<00:00, 11086.27it/s]\n",
      "Fetching 6 files: 100%|██████████| 6/6 [00:00<00:00, 15621.24it/s]\n"
     ]
    },
    {
     "name": "stdout",
     "output_type": "stream",
     "text": [
      "Error when executing Python code: solution() got an unexpected keyword argument 'var_C'\n",
      "An error occurred during the verification process: must be real number, not NoneType\n",
      "Error when executing Python code: name 'os' is not defined\n",
      "An error occurred during the verification process: must be real number, not NoneType\n",
      "An error occurred during the verification process: 'Code_Result'\n",
      "An error occurred during the verification process: 'Code_Result'\n"
     ]
    },
    {
     "name": "stderr",
     "output_type": "stream",
     "text": [
      "Fetching 6 files: 100%|██████████| 6/6 [00:00<00:00, 36314.32it/s]\n",
      "Fetching 6 files: 100%|██████████| 6/6 [00:00<00:00, 15621.24it/s]\n"
     ]
    },
    {
     "name": "stdout",
     "output_type": "stream",
     "text": [
      "Syntax error in the expression: invalid syntax (<string>, line 1)\n",
      "An error occurred during the verification process: must be real number, not NoneType\n",
      "Error when executing Python code: name 'solution' is not defined\n",
      "An error occurred during the verification process: must be real number, not NoneType\n",
      "Error when executing Python code: solution() got an unexpected keyword argument 'var_A'\n",
      "An error occurred during the verification process: must be real number, not NoneType\n",
      "Syntax error in the expression: invalid character '÷' (U+00F7) (<string>, line 2)\n",
      "An error occurred during the verification process: must be real number, not NoneType\n"
     ]
    },
    {
     "name": "stderr",
     "output_type": "stream",
     "text": [
      "Processing Questions:  64%|██████▍   | 64/100 [02:23<01:33,  2.59s/it]"
     ]
    },
    {
     "name": "stdout",
     "output_type": "stream",
     "text": [
      "Syntax error in the expression: invalid decimal literal (<string>, line 1)\n",
      "An error occurred during the verification process: must be real number, not NoneType\n"
     ]
    },
    {
     "name": "stderr",
     "output_type": "stream",
     "text": [
      "Fetching 6 files: 100%|██████████| 6/6 [00:00<00:00, 12366.50it/s]\n"
     ]
    },
    {
     "name": "stdout",
     "output_type": "stream",
     "text": [
      "Syntax error in the expression: invalid syntax (<string>, line 1)\n",
      "An error occurred during the verification process: must be real number, not NoneType\n"
     ]
    },
    {
     "name": "stderr",
     "output_type": "stream",
     "text": [
      "Fetching 6 files: 100%|██████████| 6/6 [00:00<00:00, 12427.57it/s]\n"
     ]
    },
    {
     "name": "stdout",
     "output_type": "stream",
     "text": [
      "Syntax error in the expression: invalid syntax (<string>, line 1)\n",
      "An error occurred during the verification process: must be real number, not NoneType\n"
     ]
    },
    {
     "name": "stderr",
     "output_type": "stream",
     "text": [
      "Fetching 6 files: 100%|██████████| 6/6 [00:00<00:00, 14873.42it/s]\n"
     ]
    },
    {
     "name": "stdout",
     "output_type": "stream",
     "text": [
      "Error when executing Python code: name 'solution' is not defined\n",
      "An error occurred during the verification process: must be real number, not NoneType\n",
      "Error when executing Python code: name 'solution' is not defined\n",
      "An error occurred during the verification process: must be real number, not NoneType\n",
      "Syntax error in the expression: invalid syntax (<string>, line 1)\n",
      "An error occurred during the verification process: must be real number, not NoneType\n",
      "Syntax error in the expression: invalid syntax (<string>, line 1)\n",
      "An error occurred during the verification process: must be real number, not NoneType\n"
     ]
    },
    {
     "name": "stderr",
     "output_type": "stream",
     "text": [
      "Fetching 6 files: 100%|██████████| 6/6 [00:00<00:00, 8656.97it/s]\n",
      "Processing Questions:  68%|██████▊   | 68/100 [02:32<01:18,  2.46s/it]"
     ]
    },
    {
     "name": "stdout",
     "output_type": "stream",
     "text": [
      "Syntax error in the expression: invalid syntax (<string>, line 1)\n",
      "An error occurred during the verification process: must be real number, not NoneType\n"
     ]
    },
    {
     "name": "stderr",
     "output_type": "stream",
     "text": [
      "Fetching 6 files: 100%|██████████| 6/6 [00:00<00:00, 18864.94it/s]\n"
     ]
    },
    {
     "name": "stdout",
     "output_type": "stream",
     "text": [
      "Syntax error in the expression: invalid syntax (<string>, line 1)\n",
      "An error occurred during the verification process: must be real number, not NoneType\n"
     ]
    },
    {
     "name": "stderr",
     "output_type": "stream",
     "text": [
      "Fetching 6 files: 100%|██████████| 6/6 [00:00<00:00, 9118.05it/s]\n"
     ]
    },
    {
     "name": "stdout",
     "output_type": "stream",
     "text": [
      "145\n",
      "Error when executing Python code: name 'solution' is not defined\n",
      "An error occurred during the verification process: must be real number, not NoneType\n",
      "50\n",
      "Error when executing Python code: name 'solution' is not defined\n",
      "An error occurred during the verification process: must be real number, not NoneType\n",
      "Error when executing Python code: name 'solution' is not defined\n",
      "An error occurred during the verification process: must be real number, not NoneType\n",
      "An error occurred during the verification process: 'Code_Result'\n"
     ]
    },
    {
     "name": "stderr",
     "output_type": "stream",
     "text": [
      "Fetching 6 files: 100%|██████████| 6/6 [00:00<00:00, 9023.24it/s]\n"
     ]
    },
    {
     "name": "stdout",
     "output_type": "stream",
     "text": [
      "An error occurred during the verification process: 'Code_Result'\n"
     ]
    },
    {
     "name": "stderr",
     "output_type": "stream",
     "text": [
      "Fetching 6 files: 100%|██████████| 6/6 [00:00<00:00, 8173.38it/s]\n",
      "Fetching 6 files: 100%|██████████| 6/6 [00:00<00:00, 12872.54it/s]/it]\n"
     ]
    },
    {
     "name": "stdout",
     "output_type": "stream",
     "text": [
      "An error occurred during the verification process: 'Code_Result'\n",
      "800\n",
      "Error when executing Python code: name 'solution' is not defined\n",
      "An error occurred during the verification process: must be real number, not NoneType\n",
      "Error when executing Python code: name 'solution' is not defined\n",
      "An error occurred during the verification process: must be real number, not NoneType\n",
      "0\n",
      "Error when executing Python code: name 'solution' is not defined\n",
      "An error occurred during the verification process: must be real number, not NoneType\n",
      "Syntax error in the expression: invalid syntax (<string>, line 1)\n",
      "An error occurred during the verification process: must be real number, not NoneType\n"
     ]
    },
    {
     "name": "stderr",
     "output_type": "stream",
     "text": [
      "Fetching 6 files: 100%|██████████| 6/6 [00:00<00:00, 15748.33it/s]\n",
      "Fetching 6 files: 100%|██████████| 6/6 [00:00<00:00, 10066.33it/s]\n"
     ]
    },
    {
     "name": "stdout",
     "output_type": "stream",
     "text": [
      "Runtime error during expression evaluation: 'NoneType' object is not subscriptable\n",
      "An error occurred during the verification process: must be real number, not NoneType\n",
      "An error occurred during the verification process: 'Code_Result'\n"
     ]
    },
    {
     "name": "stderr",
     "output_type": "stream",
     "text": [
      "Fetching 6 files: 100%|██████████| 6/6 [00:00<00:00, 28024.30it/s]\n"
     ]
    },
    {
     "name": "stdout",
     "output_type": "stream",
     "text": [
      "5\n",
      "Error when executing Python code: name 'solution' is not defined\n",
      "An error occurred during the verification process: must be real number, not NoneType\n",
      "Error when executing Python code: name 'solution' is not defined\n",
      "An error occurred during the verification process: must be real number, not NoneType\n",
      "Error when executing Python code: name 'solution' is not defined\n",
      "An error occurred during the verification process: must be real number, not NoneType\n"
     ]
    },
    {
     "name": "stderr",
     "output_type": "stream",
     "text": [
      "Processing Questions:  76%|███████▌  | 76/100 [02:54<01:04,  2.67s/it]"
     ]
    },
    {
     "name": "stdout",
     "output_type": "stream",
     "text": [
      "Syntax error in the expression: invalid syntax (<string>, line 1)\n",
      "An error occurred during the verification process: must be real number, not NoneType\n",
      "Syntax error in the expression: invalid syntax (<string>, line 1)\n",
      "An error occurred during the verification process: must be real number, not NoneType\n",
      "An error occurred during the verification process: 'Code_Result'\n"
     ]
    },
    {
     "name": "stderr",
     "output_type": "stream",
     "text": [
      "Fetching 6 files: 100%|██████████| 6/6 [00:00<00:00, 7309.27it/s]\n"
     ]
    },
    {
     "name": "stdout",
     "output_type": "stream",
     "text": [
      "20\n",
      "Error when executing Python code: name 'solution' is not defined\n",
      "An error occurred during the verification process: must be real number, not NoneType\n",
      "An error occurred during the verification process: 'Code_Result'\n"
     ]
    },
    {
     "name": "stderr",
     "output_type": "stream",
     "text": [
      "Fetching 6 files: 100%|██████████| 6/6 [00:00<00:00, 11105.84it/s]\n"
     ]
    },
    {
     "name": "stdout",
     "output_type": "stream",
     "text": [
      "0\n",
      "Error when executing Python code: name 'solution' is not defined\n",
      "An error occurred during the verification process: must be real number, not NoneType\n"
     ]
    },
    {
     "name": "stderr",
     "output_type": "stream",
     "text": [
      "Processing Questions:  80%|████████  | 80/100 [03:00<00:47,  2.35s/it]"
     ]
    },
    {
     "name": "stdout",
     "output_type": "stream",
     "text": [
      "Syntax error in the expression: invalid syntax (<string>, line 1)\n",
      "An error occurred during the verification process: must be real number, not NoneType\n"
     ]
    },
    {
     "name": "stderr",
     "output_type": "stream",
     "text": [
      "Fetching 6 files: 100%|██████████| 6/6 [00:00<00:00, 9300.01it/s]\n"
     ]
    },
    {
     "name": "stdout",
     "output_type": "stream",
     "text": [
      "14.285714285714286\n",
      "Error when executing Python code: name 'solution' is not defined\n",
      "An error occurred during the verification process: must be real number, not NoneType\n",
      "An error occurred during the verification process: 'Code_Result'\n"
     ]
    },
    {
     "name": "stderr",
     "output_type": "stream",
     "text": [
      "Fetching 6 files: 100%|██████████| 6/6 [00:00<00:00, 9320.68it/s]\n"
     ]
    },
    {
     "name": "stdout",
     "output_type": "stream",
     "text": [
      "7000\n",
      "Error when executing Python code: name 'solution' is not defined\n",
      "An error occurred during the verification process: must be real number, not NoneType\n",
      "Runtime error during expression evaluation: 'NoneType' object is not subscriptable\n",
      "An error occurred during the verification process: must be real number, not NoneType\n"
     ]
    },
    {
     "name": "stderr",
     "output_type": "stream",
     "text": [
      "Fetching 6 files: 100%|██████████| 6/6 [00:00<00:00, 11475.52it/s]\n"
     ]
    },
    {
     "name": "stdout",
     "output_type": "stream",
     "text": [
      "Error when executing Python code: name 'solution' is not defined\n",
      "An error occurred during the verification process: must be real number, not NoneType\n",
      "Syntax error in the expression: invalid decimal literal (<string>, line 1)\n",
      "An error occurred during the verification process: must be real number, not NoneType\n"
     ]
    },
    {
     "name": "stderr",
     "output_type": "stream",
     "text": [
      "Fetching 6 files: 100%|██████████| 6/6 [00:00<00:00, 7644.54it/s]\n"
     ]
    },
    {
     "name": "stdout",
     "output_type": "stream",
     "text": [
      "2\n",
      "Error when executing Python code: name 'solution' is not defined\n",
      "An error occurred during the verification process: must be real number, not NoneType\n"
     ]
    },
    {
     "name": "stderr",
     "output_type": "stream",
     "text": [
      "Processing Questions:  84%|████████▍ | 84/100 [03:13<00:41,  2.62s/it]"
     ]
    },
    {
     "name": "stdout",
     "output_type": "stream",
     "text": [
      "Syntax error in the expression: invalid syntax (<string>, line 1)\n",
      "An error occurred during the verification process: must be real number, not NoneType\n"
     ]
    },
    {
     "name": "stderr",
     "output_type": "stream",
     "text": [
      "Fetching 6 files: 100%|██████████| 6/6 [00:00<00:00, 10833.33it/s]\n"
     ]
    },
    {
     "name": "stdout",
     "output_type": "stream",
     "text": [
      "Error when executing Python code: name 'solution' is not defined\n",
      "An error occurred during the verification process: must be real number, not NoneType\n",
      "An error occurred during the verification process: 'Code_Result'\n"
     ]
    },
    {
     "name": "stderr",
     "output_type": "stream",
     "text": [
      "Fetching 6 files: 100%|██████████| 6/6 [00:00<00:00, 5489.93it/s]\n"
     ]
    },
    {
     "name": "stdout",
     "output_type": "stream",
     "text": [
      "Error when executing Python code: name 'solution' is not defined\n",
      "An error occurred during the verification process: must be real number, not NoneType\n",
      "Runtime error during expression evaluation: 'NoneType' object is not subscriptable\n",
      "An error occurred during the verification process: must be real number, not NoneType\n"
     ]
    },
    {
     "name": "stderr",
     "output_type": "stream",
     "text": [
      "Fetching 6 files: 100%|██████████| 6/6 [00:00<00:00, 9612.61it/s]\n"
     ]
    },
    {
     "name": "stdout",
     "output_type": "stream",
     "text": [
      "4.5\n",
      "Error when executing Python code: name 'solution' is not defined\n",
      "An error occurred during the verification process: must be real number, not NoneType\n",
      "Runtime error during expression evaluation: 'NoneType' object is not subscriptable\n",
      "An error occurred during the verification process: must be real number, not NoneType\n"
     ]
    },
    {
     "name": "stderr",
     "output_type": "stream",
     "text": [
      "Fetching 6 files: 100%|██████████| 6/6 [00:00<00:00, 7456.54it/s]\n"
     ]
    },
    {
     "name": "stdout",
     "output_type": "stream",
     "text": [
      "Error when executing Python code: [Errno 2] No such file or directory: '/path/to/var_B'\n",
      "An error occurred during the verification process: must be real number, not NoneType\n"
     ]
    },
    {
     "name": "stderr",
     "output_type": "stream",
     "text": [
      "Processing Questions:  88%|████████▊ | 88/100 [03:27<00:34,  2.86s/it]"
     ]
    },
    {
     "name": "stdout",
     "output_type": "stream",
     "text": [
      "Syntax error in the expression: invalid syntax (<string>, line 1)\n",
      "An error occurred during the verification process: must be real number, not NoneType\n"
     ]
    },
    {
     "name": "stderr",
     "output_type": "stream",
     "text": [
      "Fetching 6 files: 100%|██████████| 6/6 [00:00<00:00, 7621.39it/s]\n"
     ]
    },
    {
     "name": "stdout",
     "output_type": "stream",
     "text": [
      "5\n",
      "Error when executing Python code: name 'solution' is not defined\n",
      "An error occurred during the verification process: must be real number, not NoneType\n"
     ]
    },
    {
     "name": "stderr",
     "output_type": "stream",
     "text": [
      "Fetching 6 files: 100%|██████████| 6/6 [00:00<00:00, 4971.52it/s]\n"
     ]
    },
    {
     "name": "stdout",
     "output_type": "stream",
     "text": [
      "Syntax error in the expression: invalid syntax (<string>, line 1)\n",
      "An error occurred during the verification process: must be real number, not NoneType\n",
      "Syntax error in the expression: invalid decimal literal (<string>, line 1)\n",
      "An error occurred during the verification process: must be real number, not NoneType\n"
     ]
    },
    {
     "name": "stderr",
     "output_type": "stream",
     "text": [
      "Fetching 6 files: 100%|██████████| 6/6 [00:00<00:00, 13537.29it/s]\n"
     ]
    },
    {
     "name": "stdout",
     "output_type": "stream",
     "text": [
      "29\n",
      "Error when executing Python code: name 'solution' is not defined\n",
      "An error occurred during the verification process: must be real number, not NoneType\n",
      "Syntax error in the expression: invalid character '÷' (U+00F7) (<string>, line 2)\n",
      "An error occurred during the verification process: must be real number, not NoneType\n"
     ]
    },
    {
     "name": "stderr",
     "output_type": "stream",
     "text": [
      "Fetching 6 files: 100%|██████████| 6/6 [00:00<00:00, 8833.21it/s]\n"
     ]
    },
    {
     "name": "stdout",
     "output_type": "stream",
     "text": [
      "200\n",
      "Error when executing Python code: name 'solution' is not defined\n",
      "An error occurred during the verification process: must be real number, not NoneType\n"
     ]
    },
    {
     "name": "stderr",
     "output_type": "stream",
     "text": [
      "Processing Questions:  92%|█████████▏| 92/100 [03:39<00:23,  2.94s/it]"
     ]
    },
    {
     "name": "stdout",
     "output_type": "stream",
     "text": [
      "Syntax error in the expression: invalid syntax (<string>, line 1)\n",
      "An error occurred during the verification process: must be real number, not NoneType\n"
     ]
    },
    {
     "name": "stderr",
     "output_type": "stream",
     "text": [
      "Fetching 6 files: 100%|██████████| 6/6 [00:00<00:00, 7341.26it/s]\n"
     ]
    },
    {
     "name": "stdout",
     "output_type": "stream",
     "text": [
      "Error when executing Python code: name 'solution' is not defined\n",
      "An error occurred during the verification process: must be real number, not NoneType\n",
      "An error occurred during the verification process: 'Code_Result'\n"
     ]
    },
    {
     "name": "stderr",
     "output_type": "stream",
     "text": [
      "Fetching 6 files: 100%|██████████| 6/6 [00:00<00:00, 7077.00it/s]\n"
     ]
    },
    {
     "name": "stdout",
     "output_type": "stream",
     "text": [
      "Error when executing Python code: name 'solution' is not defined\n",
      "An error occurred during the verification process: must be real number, not NoneType\n",
      "Syntax error in the expression: invalid syntax (<string>, line 1)\n",
      "An error occurred during the verification process: must be real number, not NoneType\n"
     ]
    },
    {
     "name": "stderr",
     "output_type": "stream",
     "text": [
      "Fetching 6 files: 100%|██████████| 6/6 [00:00<00:00, 7999.31it/s]\n"
     ]
    },
    {
     "name": "stdout",
     "output_type": "stream",
     "text": [
      "Error when executing Python code: solution() got an unexpected keyword argument 'var_A'\n",
      "An error occurred during the verification process: must be real number, not NoneType\n",
      "An error occurred during the verification process: 'Code_Result'\n"
     ]
    },
    {
     "name": "stderr",
     "output_type": "stream",
     "text": [
      "Fetching 6 files: 100%|██████████| 6/6 [00:00<00:00, 18236.10it/s]\n"
     ]
    },
    {
     "name": "stdout",
     "output_type": "stream",
     "text": [
      "Syntax error in the expression: invalid syntax (<string>, line 1)\n",
      "An error occurred during the verification process: must be real number, not NoneType\n"
     ]
    },
    {
     "name": "stderr",
     "output_type": "stream",
     "text": [
      "Processing Questions:  96%|█████████▌| 96/100 [03:54<00:12,  3.21s/it]"
     ]
    },
    {
     "name": "stdout",
     "output_type": "stream",
     "text": [
      "An error occurred during the verification process: 'Code_Result'\n"
     ]
    },
    {
     "name": "stderr",
     "output_type": "stream",
     "text": [
      "Fetching 6 files: 100%|██████████| 6/6 [00:00<00:00, 7740.95it/s]\n"
     ]
    },
    {
     "name": "stdout",
     "output_type": "stream",
     "text": [
      "35\n",
      "Error when executing Python code: name 'solution' is not defined\n",
      "An error occurred during the verification process: must be real number, not NoneType\n",
      "Syntax error in the expression: invalid syntax (<string>, line 1)\n",
      "An error occurred during the verification process: must be real number, not NoneType\n"
     ]
    },
    {
     "name": "stderr",
     "output_type": "stream",
     "text": [
      "Fetching 6 files: 100%|██████████| 6/6 [00:00<00:00, 8416.66it/s]\n"
     ]
    },
    {
     "name": "stdout",
     "output_type": "stream",
     "text": [
      "Error when executing Python code: solution() got an unexpected keyword argument 'var_C'\n",
      "An error occurred during the verification process: must be real number, not NoneType\n",
      "An error occurred during the verification process: 'Code_Result'\n"
     ]
    },
    {
     "name": "stderr",
     "output_type": "stream",
     "text": [
      "Fetching 6 files: 100%|██████████| 6/6 [00:00<00:00, 7290.22it/s]\n"
     ]
    },
    {
     "name": "stdout",
     "output_type": "stream",
     "text": [
      "600\n",
      "Error when executing Python code: name 'solution' is not defined\n",
      "An error occurred during the verification process: must be real number, not NoneType\n",
      "An error occurred during the verification process: 'Code_Result'\n"
     ]
    },
    {
     "name": "stderr",
     "output_type": "stream",
     "text": [
      "Fetching 6 files: 100%|██████████| 6/6 [00:00<00:00, 6212.25it/s]\n"
     ]
    },
    {
     "name": "stdout",
     "output_type": "stream",
     "text": [
      "Error when executing Python code: solution() got an unexpected keyword argument 'var_C'\n",
      "An error occurred during the verification process: must be real number, not NoneType\n"
     ]
    },
    {
     "name": "stderr",
     "output_type": "stream",
     "text": [
      "Processing Questions: 100%|██████████| 100/100 [04:07<00:00,  2.48s/it]"
     ]
    },
    {
     "name": "stdout",
     "output_type": "stream",
     "text": [
      "An error occurred during the verification process: 'Code_Result'\n"
     ]
    },
    {
     "name": "stderr",
     "output_type": "stream",
     "text": [
      "\n",
      "Fetching 6 files: 100%|██████████| 6/6 [00:00<00:00, 7926.24it/s]\n"
     ]
    },
    {
     "name": "stdout",
     "output_type": "stream",
     "text": [
      "Error when executing Python code: name 'solution' is not defined\n",
      "An error occurred during the verification process: must be real number, not NoneType\n",
      "An error occurred during the verification process: 'Code_Result'\n"
     ]
    },
    {
     "name": "stderr",
     "output_type": "stream",
     "text": [
      "Fetching 6 files: 100%|██████████| 6/6 [00:00<00:00, 6192.38it/s]\n"
     ]
    },
    {
     "name": "stdout",
     "output_type": "stream",
     "text": [
      "Syntax error in the expression: invalid syntax (<string>, line 1)\n",
      "An error occurred during the verification process: must be real number, not NoneType\n",
      "An error occurred during the verification process: 'Code_Result'\n"
     ]
    },
    {
     "name": "stderr",
     "output_type": "stream",
     "text": [
      "Fetching 6 files: 100%|██████████| 6/6 [00:00<00:00, 6431.34it/s]\n"
     ]
    },
    {
     "name": "stdout",
     "output_type": "stream",
     "text": [
      "Syntax error in the expression: invalid syntax (<string>, line 1)\n",
      "An error occurred during the verification process: must be real number, not NoneType\n",
      "An error occurred during the verification process: 'Code_Result'\n"
     ]
    },
    {
     "name": "stderr",
     "output_type": "stream",
     "text": [
      "Fetching 6 files: 100%|██████████| 6/6 [00:00<00:00, 7275.46it/s]\n"
     ]
    },
    {
     "name": "stdout",
     "output_type": "stream",
     "text": [
      "3\n",
      "Error when executing Python code: name 'solution' is not defined\n",
      "An error occurred during the verification process: must be real number, not NoneType\n",
      "An error occurred during the verification process: 'Code_Result'\n"
     ]
    }
   ],
   "source": [
    "# Run the parallelized function\n",
    "reset_csv_files()\n",
    "run_methods = [\"MathPrompter\", \"MathPrompter++\"]\n",
    "os.environ[\"TOKENIZERS_PARALLELISM\"] = \"false\"\n",
    "process_question_partial = partial(process_question, debug=False)\n",
    "Parallel(n_jobs=4)(delayed(process_question_partial)(item) for item in tqdm(data[:100], desc=\"Processing Questions\"))\n"
   ]
  }
 ],
 "metadata": {
  "kernelspec": {
   "display_name": "llms",
   "language": "python",
   "name": "python3"
  },
  "language_info": {
   "codemirror_mode": {
    "name": "ipython",
    "version": 3
   },
   "file_extension": ".py",
   "mimetype": "text/x-python",
   "name": "python",
   "nbconvert_exporter": "python",
   "pygments_lexer": "ipython3",
   "version": "3.10.15"
  }
 },
 "nbformat": 4,
 "nbformat_minor": 2
}
